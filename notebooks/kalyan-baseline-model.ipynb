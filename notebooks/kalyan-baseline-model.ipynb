{
 "cells": [
  {
   "cell_type": "code",
   "execution_count": 7,
   "id": "c02a4796-e080-4638-ad94-95cf91deaee0",
   "metadata": {},
   "outputs": [
    {
     "name": "stdout",
     "output_type": "stream",
     "text": [
      "The autoreload extension is already loaded. To reload it, use:\n",
      "  %reload_ext autoreload\n"
     ]
    }
   ],
   "source": [
    "%load_ext autoreload\n",
    "%autoreload 2\n",
    "\n",
    "from pathlib import Path\n",
    "from typing import List\n",
    "\n",
    "from sklearn.feature_extraction.text import TfidfVectorizer\n",
    "from sklearn.svm import SVC\n",
    "from sklearn.linear_model import LogisticRegression\n",
    "from sklearn.metrics import average_precision_score, PrecisionRecallDisplay\n",
    "from sklearn.model_selection import RandomizedSearchCV\n",
    "\n",
    "import pandas as pd\n",
    "import spacy\n",
    "import numpy as np\n",
    "\n",
    "import matplotlib.pyplot as plt\n",
    "\n",
    "import sys\n",
    "sys.path.append(\"..\")\n",
    "\n",
    "from src.model_testing.datasets import TRAIN, VALIDATION, VALIDATION_LARGE\n"
   ]
  },
  {
   "cell_type": "code",
   "execution_count": 3,
   "id": "69dab777-534d-411a-8f00-f4e18f008833",
   "metadata": {},
   "outputs": [
    {
     "data": {
      "text/html": [
       "<div>\n",
       "<style scoped>\n",
       "    .dataframe tbody tr th:only-of-type {\n",
       "        vertical-align: middle;\n",
       "    }\n",
       "\n",
       "    .dataframe tbody tr th {\n",
       "        vertical-align: top;\n",
       "    }\n",
       "\n",
       "    .dataframe thead th {\n",
       "        text-align: right;\n",
       "    }\n",
       "</style>\n",
       "<table border=\"1\" class=\"dataframe\">\n",
       "  <thead>\n",
       "    <tr style=\"text-align: right;\">\n",
       "      <th></th>\n",
       "      <th>Document ID</th>\n",
       "      <th>Country Name</th>\n",
       "      <th>Document Date</th>\n",
       "      <th>Sheet Name</th>\n",
       "      <th>text</th>\n",
       "      <th>md5hash</th>\n",
       "      <th>is_target</th>\n",
       "      <th>page_num</th>\n",
       "      <th>text_block_id</th>\n",
       "    </tr>\n",
       "  </thead>\n",
       "  <tbody>\n",
       "    <tr>\n",
       "      <th>0</th>\n",
       "      <td>9217</td>\n",
       "      <td>India</td>\n",
       "      <td>2019.0</td>\n",
       "      <td>verified-docs</td>\n",
       "      <td>Credit Guarantee Enhancement Corporation to be...</td>\n",
       "      <td>c56d9933b009cc67fccdc4e335cd48df</td>\n",
       "      <td>True</td>\n",
       "      <td>NaN</td>\n",
       "      <td>NaN</td>\n",
       "    </tr>\n",
       "    <tr>\n",
       "      <th>1</th>\n",
       "      <td>9217</td>\n",
       "      <td>India</td>\n",
       "      <td>2019.0</td>\n",
       "      <td>verified-docs</td>\n",
       "      <td>Electricity and clean cooking facility to all ...</td>\n",
       "      <td>c56d9933b009cc67fccdc4e335cd48df</td>\n",
       "      <td>True</td>\n",
       "      <td>NaN</td>\n",
       "      <td>NaN</td>\n",
       "    </tr>\n",
       "    <tr>\n",
       "      <th>2</th>\n",
       "      <td>9217</td>\n",
       "      <td>India</td>\n",
       "      <td>2019.0</td>\n",
       "      <td>verified-docs</td>\n",
       "      <td>1,25,000 kilometers of road length to be upgra...</td>\n",
       "      <td>c56d9933b009cc67fccdc4e335cd48df</td>\n",
       "      <td>True</td>\n",
       "      <td>NaN</td>\n",
       "      <td>NaN</td>\n",
       "    </tr>\n",
       "    <tr>\n",
       "      <th>3</th>\n",
       "      <td>9217</td>\n",
       "      <td>India</td>\n",
       "      <td>2019.0</td>\n",
       "      <td>verified-docs</td>\n",
       "      <td>100 new clusters to be setup during 2019-20 wi...</td>\n",
       "      <td>c56d9933b009cc67fccdc4e335cd48df</td>\n",
       "      <td>True</td>\n",
       "      <td>NaN</td>\n",
       "      <td>NaN</td>\n",
       "    </tr>\n",
       "    <tr>\n",
       "      <th>4</th>\n",
       "      <td>9217</td>\n",
       "      <td>India</td>\n",
       "      <td>2019.0</td>\n",
       "      <td>verified-docs</td>\n",
       "      <td>o 80 Livelihood Business Incubators (LBIs) and...</td>\n",
       "      <td>c56d9933b009cc67fccdc4e335cd48df</td>\n",
       "      <td>True</td>\n",
       "      <td>NaN</td>\n",
       "      <td>NaN</td>\n",
       "    </tr>\n",
       "  </tbody>\n",
       "</table>\n",
       "</div>"
      ],
      "text/plain": [
       "  Document ID Country Name  Document Date     Sheet Name  \\\n",
       "0        9217        India         2019.0  verified-docs   \n",
       "1        9217        India         2019.0  verified-docs   \n",
       "2        9217        India         2019.0  verified-docs   \n",
       "3        9217        India         2019.0  verified-docs   \n",
       "4        9217        India         2019.0  verified-docs   \n",
       "\n",
       "                                                text  \\\n",
       "0  Credit Guarantee Enhancement Corporation to be...   \n",
       "1  Electricity and clean cooking facility to all ...   \n",
       "2  1,25,000 kilometers of road length to be upgra...   \n",
       "3  100 new clusters to be setup during 2019-20 wi...   \n",
       "4  o 80 Livelihood Business Incubators (LBIs) and...   \n",
       "\n",
       "                            md5hash  is_target  page_num text_block_id  \n",
       "0  c56d9933b009cc67fccdc4e335cd48df       True       NaN           NaN  \n",
       "1  c56d9933b009cc67fccdc4e335cd48df       True       NaN           NaN  \n",
       "2  c56d9933b009cc67fccdc4e335cd48df       True       NaN           NaN  \n",
       "3  c56d9933b009cc67fccdc4e335cd48df       True       NaN           NaN  \n",
       "4  c56d9933b009cc67fccdc4e335cd48df       True       NaN           NaN  "
      ]
     },
     "execution_count": 3,
     "metadata": {},
     "output_type": "execute_result"
    }
   ],
   "source": [
    "TRAIN.data.head()"
   ]
  },
  {
   "cell_type": "markdown",
   "id": "3f836bd0-32d7-44f5-acdc-55d363b0c3a0",
   "metadata": {},
   "source": [
    "### spacy vectors & SVM"
   ]
  },
  {
   "cell_type": "code",
   "execution_count": 5,
   "id": "c2b0d79f-8c45-46f6-8493-60d2b9ce23cf",
   "metadata": {
    "tags": []
   },
   "outputs": [],
   "source": [
    "# !spacy download en_core_web_lg"
   ]
  },
  {
   "cell_type": "markdown",
   "id": "ff764943-13b9-4f5c-ab50-0e350f50cb1f",
   "metadata": {},
   "source": [
    "#### get vectors"
   ]
  },
  {
   "cell_type": "code",
   "execution_count": 11,
   "id": "8069d985-a7e8-45bd-a424-930b43dbbb49",
   "metadata": {},
   "outputs": [
    {
     "name": "stdout",
     "output_type": "stream",
     "text": [
      "<class 'numpy.ndarray'>\n"
     ]
    }
   ],
   "source": [
    "nlp = spacy.load(\"en_core_web_lg\")\n",
    "\n",
    "X_train = np.vstack([doc.vector for doc in nlp.pipe(TRAIN.text)])\n",
    "X_val = np.vstack([doc.vector for doc in nlp.pipe(VALIDATION.text)])\n",
    "X_val_large = np.vstack([doc.vector for doc in nlp.pipe(VALIDATION_LARGE.text)])\n",
    "\n",
    "print(type(X_train))\n",
    "\n",
    "y_train = TRAIN.targets\n",
    "y_val = VALIDATION.targets\n",
    "y_val_large = VALIDATION_LARGE.targets\n"
   ]
  },
  {
   "cell_type": "markdown",
   "id": "cb52795e-208d-40ff-af0c-77bd8412be19",
   "metadata": {},
   "source": [
    "#### train SVM classifier with a fixed set of parameters"
   ]
  },
  {
   "cell_type": "code",
   "execution_count": 17,
   "id": "b888c67e-a31f-40a9-a5b2-83441acd4a3b",
   "metadata": {},
   "outputs": [
    {
     "data": {
      "text/plain": [
       "<sklearn.metrics._plot.precision_recall_curve.PrecisionRecallDisplay at 0x17c86edc0>"
      ]
     },
     "metadata": {},
     "output_type": "display_data"
    },
    {
     "data": {
      "text/plain": [
       "'precision-recall curve (small validation set). average precision: 0.8145480361217585'"
      ]
     },
     "metadata": {},
     "output_type": "display_data"
    },
    {
     "data": {
      "image/png": "[encoded data removed]",
      "text/plain": [
       "<Figure size 432x288 with 1 Axes>"
      ]
     },
     "metadata": {
      "needs_background": "light"
     },
     "output_type": "display_data"
    },
    {
     "name": "stdout",
     "output_type": "stream",
     "text": [
      "\n"
     ]
    },
    {
     "data": {
      "text/plain": [
       "<sklearn.metrics._plot.precision_recall_curve.PrecisionRecallDisplay at 0x17c798bb0>"
      ]
     },
     "metadata": {},
     "output_type": "display_data"
    },
    {
     "data": {
      "text/plain": [
       "'precision-recall curve (small validation set). average precision: 0.11625916541617318'"
      ]
     },
     "metadata": {},
     "output_type": "display_data"
    },
    {
     "data": {
      "image/png": "[encoded data removed]",
      "text/plain": [
       "<Figure size 432x288 with 1 Axes>"
      ]
     },
     "metadata": {
      "needs_background": "light"
     },
     "output_type": "display_data"
    }
   ],
   "source": [
    "clf = SVC(C=1, gamma=0.5, kernel='rbf', probability=True)\n",
    "\n",
    "clf = clf.fit(X_train, y_train)\n",
    "\n",
    "# small validation set \n",
    "y_pred_proba = clf.predict_proba(X_val)[:,1]\n",
    "av_precision = average_precision_score(y_val, y_pred_proba)\n",
    "display(PrecisionRecallDisplay.from_predictions(y_val, y_pred_proba))\n",
    "display(f\"precision-recall curve (small validation set). average precision: {av_precision}\")\n",
    "plt.show()\n",
    "\n",
    "print()\n",
    "\n",
    "y_pred_proba = clf.predict_proba(X_val_large)[:,1]\n",
    "av_precision = average_precision_score(y_val_large, y_pred_proba)\n",
    "display(PrecisionRecallDisplay.from_predictions(y_val_large, y_pred_proba))\n",
    "display(f\"precision-recall curve (small validation set). average precision: {av_precision}\")\n",
    "plt.show()\n"
   ]
  },
  {
   "cell_type": "markdown",
   "id": "2a20a975-fcb3-4bef-8ec9-c559794465f9",
   "metadata": {},
   "source": [
    "#### grid search on params for above classifier"
   ]
  },
  {
   "cell_type": "code",
   "execution_count": 18,
   "id": "03914024-4b47-46a8-9020-0c123f22f1fa",
   "metadata": {},
   "outputs": [
    {
     "data": {
      "text/plain": [
       "0.9477084145940771"
      ]
     },
     "metadata": {},
     "output_type": "display_data"
    },
    {
     "data": {
      "text/plain": [
       "{'C': 10, 'class_weight': None, 'gamma': 0.5, 'kernel': 'rbf'}"
      ]
     },
     "metadata": {},
     "output_type": "display_data"
    }
   ],
   "source": [
    "clf = SVC()\n",
    "\n",
    "from sklearn.model_selection import GridSearchCV\n",
    "\n",
    "parameters = [{\"C\": [1, 10, 100, 1000], \"kernel\": ['linear'], \"class_weight\": [None, 'balanced']}, \n",
    "              {\"C\": [1, 10, 100, 1000], \"kernel\": ['rbf'], 'gamma': [0.5, 0.1, 0.01, 0.001], \"class_weight\": [None, 'balanced']}]\n",
    "\n",
    "grid_search = GridSearchCV(\n",
    "    estimator=clf, \n",
    "    param_grid=parameters, \n",
    "    scoring='precision', \n",
    "    cv=10, \n",
    "    n_jobs=-1\n",
    ")\n",
    "\n",
    "grid_search = grid_search.fit(X_train, y_train)\n",
    "\n",
    "#Use attributes of grid_search to get the results\n",
    "display(grid_search.best_score_)\n",
    "display(grid_search.best_params_)\n"
   ]
  },
  {
   "cell_type": "code",
   "execution_count": 19,
   "id": "cf824941-2dae-4f13-af2d-c2301884fe93",
   "metadata": {},
   "outputs": [
    {
     "name": "stdout",
     "output_type": "stream",
     "text": [
      "0.8090279439717494\n"
     ]
    },
    {
     "data": {
      "text/plain": [
       "<sklearn.metrics._plot.precision_recall_curve.PrecisionRecallDisplay at 0x17c7f0d30>"
      ]
     },
     "metadata": {},
     "output_type": "display_data"
    },
    {
     "data": {
      "image/png": "[encoded data removed]",
      "text/plain": [
       "<Figure size 432x288 with 1 Axes>"
      ]
     },
     "metadata": {
      "needs_background": "light"
     },
     "output_type": "display_data"
    }
   ],
   "source": [
    "clf = SVC(\n",
    "    **grid_search.best_params_, \n",
    "    probability=True\n",
    ").fit(\n",
    "    X_train, \n",
    "    y_train,\n",
    ")\n",
    "\n",
    "y_pred = clf.predict(X_val)\n",
    "y_pred_proba = clf.predict_proba(X_val)[:,1]\n",
    "\n",
    "print(average_precision_score(y_val, y_pred_proba))\n",
    "display(PrecisionRecallDisplay.from_predictions(y_val, y_pred_proba))\n",
    "plt.show()\n"
   ]
  },
  {
   "cell_type": "code",
   "execution_count": 20,
   "id": "5e94a2c0-a430-44d7-a8ee-39b320922e78",
   "metadata": {},
   "outputs": [],
   "source": [
    "validation = VALIDATION.data\n",
    "validation['prediction'] = [bool(i) for i in y_pred]"
   ]
  },
  {
   "cell_type": "markdown",
   "id": "b8790d6e-ff23-424b-bee0-50f3472deded",
   "metadata": {},
   "source": [
    "### look at incorrect predictions"
   ]
  },
  {
   "cell_type": "code",
   "execution_count": 21,
   "id": "f6615f03-a6b5-4e4f-81c1-4e4d9dca182c",
   "metadata": {},
   "outputs": [
    {
     "data": {
      "text/plain": [
       "['The promotion of socio-economic expansion and poverty reduction throughsignificant use of natural resources in a wasteful and inefficient manner over the pastdecades has put Lao PDR at a high risk of inability to achieve the long-term goals ofthe socio-economic development, such as: graduating from the status of leastdeveloped country in a sustainably manner by 2020, becoming an upper-middleincome country and achieving the Sustainable Development Goals (SDGs) by 2030.Therefore, the Resolution of the 10 th Party Congress, the Vision 2030, the 10-YearStrategy (2016-2025) and the 8 th Five-Year Socio-Economic Development Plan(2016-2020) have given importance and emphasis to the national socio-economicdevelopment of the Lao PDR according to green and sustainable direction. 19',\n",
       " \"Progress in the preparation of national plans was discussed at several meetings of the Committee of SeniorEnergy Officials of the Baltic Council of Ministers held on 31 January 2018, 9 April 2018, 30 October 2018,18 April 2019, 29 August 2019 and 6 November 2019, also at the meetings of the Baltic Council ofMinisters' Environment Ministers held on 23-24 May 2018 and 30-31 October 2019.\"]"
      ]
     },
     "execution_count": 21,
     "metadata": {},
     "output_type": "execute_result"
    }
   ],
   "source": [
    "fns = validation.loc[validation['is_target'] & ~validation['prediction'], 'text'].tolist()\n",
    "fps = validation.loc[~validation['is_target'] & validation['prediction'], 'text'].tolist()\n",
    "\n",
    "fps"
   ]
  },
  {
   "cell_type": "markdown",
   "id": "8197fd44-eead-4e92-bed1-ce00ccd864a6",
   "metadata": {},
   "source": [
    "### run predictions on sample of unlabelled text"
   ]
  },
  {
   "cell_type": "code",
   "execution_count": 22,
   "id": "cd42d008-4caa-4422-b9eb-5e584c0f2bdd",
   "metadata": {},
   "outputs": [],
   "source": [
    "import json\n",
    "\n",
    "def jsonl_to_dataframe(jsonl_path: Path) -> pd.DataFrame:\n",
    "    \"\"\"Load the jsonl file produced when running this script as a CLI to a pandas dataframe.\"\"\"\n",
    "    with open(jsonl_path, \"r\") as f:\n",
    "        data = json.load(f)\n",
    "\n",
    "    return pd.DataFrame.from_records(data)\n"
   ]
  },
  {
   "cell_type": "code",
   "execution_count": 23,
   "id": "b4f1016f-ffd0-44cf-86a8-c6980360d76b",
   "metadata": {},
   "outputs": [],
   "source": [
    "all_text = jsonl_to_dataframe(\"../data/interim/text_passages.jsonl\")"
   ]
  },
  {
   "cell_type": "code",
   "execution_count": 24,
   "id": "73a720f9-16af-4c96-b848-f27879870ad5",
   "metadata": {},
   "outputs": [],
   "source": [
    "text_sample = all_text.sample(1000, random_state=41)"
   ]
  },
  {
   "cell_type": "code",
   "execution_count": 25,
   "id": "8e221a77-eef5-4aa0-8865-45a5d835dfb6",
   "metadata": {},
   "outputs": [
    {
     "data": {
      "text/plain": [
       "(1000, 300)"
      ]
     },
     "metadata": {},
     "output_type": "display_data"
    },
    {
     "data": {
      "text/plain": [
       "'Top 40 predictions by probability, descending'"
      ]
     },
     "metadata": {},
     "output_type": "display_data"
    },
    {
     "data": {
      "text/html": [
       "<div>\n",
       "<style scoped>\n",
       "    .dataframe tbody tr th:only-of-type {\n",
       "        vertical-align: middle;\n",
       "    }\n",
       "\n",
       "    .dataframe tbody tr th {\n",
       "        vertical-align: top;\n",
       "    }\n",
       "\n",
       "    .dataframe thead th {\n",
       "        text-align: right;\n",
       "    }\n",
       "</style>\n",
       "<table border=\"1\" class=\"dataframe\">\n",
       "  <thead>\n",
       "    <tr style=\"text-align: right;\">\n",
       "      <th></th>\n",
       "      <th>text</th>\n",
       "      <th>pred_proba</th>\n",
       "    </tr>\n",
       "  </thead>\n",
       "  <tbody>\n",
       "    <tr>\n",
       "      <th>597351</th>\n",
       "      <td>Hungary plans to increase the share of energy production based on renewable energy sources within electricity consumption to at least 20 % by 2030.</td>\n",
       "      <td>0.997320</td>\n",
       "    </tr>\n",
       "    <tr>\n",
       "      <th>463066</th>\n",
       "      <td>ii. Estimated trajectories for the sectoral share of renewable energy in final energy consumption from 2021 to 2030 in the electricity, heating and cooling, and transport sector</td>\n",
       "      <td>0.992897</td>\n",
       "    </tr>\n",
       "    <tr>\n",
       "      <th>546547</th>\n",
       "      <td>123A whole-of-economy Plan to achieve net zero emissions by 2050</td>\n",
       "      <td>0.987859</td>\n",
       "    </tr>\n",
       "    <tr>\n",
       "      <th>597380</th>\n",
       "      <td>, which can significantly increase the amount of national and EU funds serving development, and reduce the energy consumption of buildings and GHG emissions. Pursuant to the directive, district heating/district cooling is deemed to be efficient if operating with at least 50 % renewable energy, 50 % waste heat, 75 % cogenerated heat, or 50 % of a combination of such energy resources.</td>\n",
       "      <td>0.985047</td>\n",
       "    </tr>\n",
       "    <tr>\n",
       "      <th>508565</th>\n",
       "      <td>Reviewing the 2017 -2035 Integrated Resource Plan every five years.</td>\n",
       "      <td>0.971286</td>\n",
       "    </tr>\n",
       "    <tr>\n",
       "      <th>199679</th>\n",
       "      <td>By 2040, it is assumed that total GHG emissions from the transport sector will have increased under a scenario with existing measures by approximately 8.2% in comparison to 2016. An increase in road transport is projected. According to estimates, emissions from domestic aviation and railway transport will remain stable from 2016 to 2040. Emissions from domestic shipping are projected to decline because of lower fuel consumption</td>\n",
       "      <td>0.966296</td>\n",
       "    </tr>\n",
       "    <tr>\n",
       "      <th>565982</th>\n",
       "      <td>There are still recently approved sector policy papers which provide for overall objectives related to environmental protection and natural resources management, having actions tangential with biodiversity conservation, especially the National plan for expanding forest vegetation areas for 2014-2018 and the National agricultural and rural development agency for 2014-2020. While the Environmental strategy for 2014-2023 sets out priorities at sector level for assuring environmental protection measures.</td>\n",
       "      <td>0.947643</td>\n",
       "    </tr>\n",
       "    <tr>\n",
       "      <th>692115</th>\n",
       "      <td>The project will be conducted in 5 phases. The first phase which involves the deployment of a batch of 1000 kits was completed in April 2019. In order to ensure a fair geographical distribution, the 10,000 photovoltaic kits will be distributed to all regions of Mauritius and Rodrigues.</td>\n",
       "      <td>0.944234</td>\n",
       "    </tr>\n",
       "    <tr>\n",
       "      <th>146779</th>\n",
       "      <td>The overall share of GHG emissions from the waste sector is equivalent to &lt;5% of the gross national emissions, with the main gas emitted being methane, mainly from disposal of solid waste to land.</td>\n",
       "      <td>0.931353</td>\n",
       "    </tr>\n",
       "    <tr>\n",
       "      <th>114204</th>\n",
       "      <td>A new MTDP is currently under development that will set the development agenda over the coming five years. This MTDP will continue work to achieve the goals of the StaRS and Vision 2050 as well as integrating a national interpretation of the global Sustainable Development Goals, which, form part of the 2030 Agenda for Sustainable Development adopted, by all 193 member nations of the UN including PNG, at the United Nations Sustainable Development Summit on 25 September 2015 (further information on the SDGs is also provided in Box 3).</td>\n",
       "      <td>0.919491</td>\n",
       "    </tr>\n",
       "    <tr>\n",
       "      <th>287927</th>\n",
       "      <td>The STC’s proposed electric rail network consists of seven lines totalling 5,196 km, with the first and primary line of Addis Ababa – Djibouti opening in 2015. The information sources for this initiative were the Ethiopian Railway Corporation transport plan, the Transport Sector Nationally Appropriate Mitigation Actions Plan, Ministry of Transport data, and statistics from the National Bank of Ethiopia. The abatement potential of shifting freight to electric rail reaches 8.9 Mt CO2e per year in 2030. The abatement potential was calculated using the following assump-tions:</td>\n",
       "      <td>0.913199</td>\n",
       "    </tr>\n",
       "    <tr>\n",
       "      <th>230056</th>\n",
       "      <td>Furthermore, to ensure that our youth develop a positive relationship with their surroundings, we will introduce Outdoor education programs in the secondary school curriculum for all students in grades 10 to 12.</td>\n",
       "      <td>0.904086</td>\n",
       "    </tr>\n",
       "    <tr>\n",
       "      <th>545233</th>\n",
       "      <td>Australia’s Plan will achieve net zero emissions by 2050 and position our economy to seize the opportunitiesof new and traditional markets (Figure 1.1). Our focus is on driving down technology costs, accelerating theirdeployment at scale, and building our regional economies.</td>\n",
       "      <td>0.887396</td>\n",
       "    </tr>\n",
       "    <tr>\n",
       "      <th>318667</th>\n",
       "      <td>Phase 2 focuses on achieving our 2030 target of at least 3.5GW of offshore wind to be operational and moving towards full decarbonisation. The Irish Government recognises that to realise the enormous potential of the offshore energy sector will require fully coordinated support across government, from research and development, through supply chain development, to commercial deployment. In the latter part of the decade, Ireland will focus</td>\n",
       "      <td>0.855725</td>\n",
       "    </tr>\n",
       "    <tr>\n",
       "      <th>8661</th>\n",
       "      <td>The Netherlands has opted to make its contribution based on primary energy consumption in 2030. The Netherlands aims to achieve primary energy consumption of 1,950 petajoules by 2030 (excluding use for non-energy purposes). In terms of final energy consumption, this contribution is translated into an expected final energy consumption of 1,837 petajoules by 2030. According to the European Commission this is a reasonable contribution by the Netherlands. These contributions are based on the definitions adopted in Eurostat in the context of the 2020-2030 energy targets. As a result, the Netherlands is expected to meet the indicative national contribution to the European target. The Dutch contributions will be achieved by implementing the package of policy measures specified in the Climate Agreement (see Chapter 3.2).</td>\n",
       "      <td>0.822975</td>\n",
       "    </tr>\n",
       "    <tr>\n",
       "      <th>299051</th>\n",
       "      <td>leverage a total investment of over €300 million. The next call for applications under the Climate Action Fund, planned for the second half of 2019, will integrate the lessons learned from the first</td>\n",
       "      <td>0.804840</td>\n",
       "    </tr>\n",
       "    <tr>\n",
       "      <th>697482</th>\n",
       "      <td>Liberating the binding constraints in infrastructure will require an increase in the power generating and distribution capacity to 5GW by 2030, the modernization and expansion of port facilities, construction of a second airport and airport city, rehabilitating major trunk and feeder roads, developing water resources to respond sustainably to needs, and linking all major cities and towns to the national fibre optic network.</td>\n",
       "      <td>0.797078</td>\n",
       "    </tr>\n",
       "    <tr>\n",
       "      <th>605825</th>\n",
       "      <td>The figure below depicts the annual GHG mitigation achieved via the mitigation actions in the energy sector, which is expected to be 627,000 tCO2 against the BAU baseline in 2030. The total investment costs in the energy sector to achieve this level of GHG mitigation is estimated to be US$ 2.97 billion between 2017–2030, plus the estimated US$ 119 million already invested between 2014-2017.</td>\n",
       "      <td>0.775895</td>\n",
       "    </tr>\n",
       "    <tr>\n",
       "      <th>184230</th>\n",
       "      <td>The recommended scenario (Scenario 2) leads to a reduction of 0.83 Mtoe in the final consumption in 2030 compared to the baseline scenario. All of the three scenarios lead to final energy consumption of 3.38 Mtoe in buildings in 2050, which is a 66 % reduction compared to the same year in the baseline scenario. Moreover, Scenario 2 leads to a reduction in CO2 emissions of 2.34 million tonnes compared to the baseline scenario, with an estimated value of 7.50 million tonnes of CO2 emissions generated by the stock of buildings in Romania in 2030.</td>\n",
       "      <td>0.772648</td>\n",
       "    </tr>\n",
       "    <tr>\n",
       "      <th>421250</th>\n",
       "      <td>Solar energy is the best option to meeting the renewable energy target, but work on stabilising the national grid is required to allow maximum penetration of solar energy. In addition, due to the intermittent characteristics of solar energy, energy storage is required to save energy that can be used at night time. The total installed solar PV capacity of 343.1 kW could contribute around 5% of solar generation to the electricity generation, assuming the grid instability issue is resolved and battery storage is available.</td>\n",
       "      <td>0.771770</td>\n",
       "    </tr>\n",
       "    <tr>\n",
       "      <th>50435</th>\n",
       "      <td>The Middle Path - NATIONAL ENVIRONMENT STRATEGY 2020</td>\n",
       "      <td>0.741057</td>\n",
       "    </tr>\n",
       "    <tr>\n",
       "      <th>333063</th>\n",
       "      <td>GHG emissions with a share of about 48% of all</td>\n",
       "      <td>0.687354</td>\n",
       "    </tr>\n",
       "    <tr>\n",
       "      <th>565379</th>\n",
       "      <td>At 9.8 million, Malawi•s population has trebled in the past two decades and it continues to grow.  The population is predominantly rural, constituting about 85 percent of the total. Of this, 98 percent derive their livelihood primarily from smallholder agriculture, with 55 percent having less than one hectare of cultivable land an amount inadequate to meet their food needs.</td>\n",
       "      <td>0.641543</td>\n",
       "    </tr>\n",
       "    <tr>\n",
       "      <th>140933</th>\n",
       "      <td>3.11. Strategic Goal 3: Promoting the Sustainable Use of Energy in Transport</td>\n",
       "      <td>0.637343</td>\n",
       "    </tr>\n",
       "    <tr>\n",
       "      <th>474983</th>\n",
       "      <td>In energy efficiency, there are three targets for the period 2021–2030: (i) an indicative target for the sizeof primary energy sources, final consumption and energy intensity; (ii) a binding energy savings target forpublic sector buildings; (iii) a binding year-on-year rate of final consumption savings. These objectivescorrespond to Articles 3, 5 and 7 of the of Directive 2012/27/EU on energy efficiency, as amended. Theaim of the Czech Republic is to reach primary energy sources at the level of 1 735 PJ in 2030, finalconsumption at the level of 990 PJ and energy intensity of GDP at the level of 0.157 MJ/CZK. The CzechRepublic has chosen a target expressed in the energy intensity of GDP as its primary objective. On thebasis of an assumed energy performance of central institution buildings in 2020, the Czech Republic setthe commitment to achieve energy savings in buildings with low energy performance of these institutionsof 124 TJ, in accordance with the rules of the Energy Efficiency Directive. Furthermore, in accordancewith Article 7, a commitment of cumulated energy savings of 462 PJ was set on the basis of the available</td>\n",
       "      <td>0.629011</td>\n",
       "    </tr>\n",
       "    <tr>\n",
       "      <th>439473</th>\n",
       "      <td>Almost 40 percent of total final energy in Germany is con</td>\n",
       "      <td>0.620230</td>\n",
       "    </tr>\n",
       "    <tr>\n",
       "      <th>598846</th>\n",
       "      <td>The weight of renewables will sharply increase in the sector by 2030</td>\n",
       "      <td>0.603618</td>\n",
       "    </tr>\n",
       "    <tr>\n",
       "      <th>580409</th>\n",
       "      <td>* Municipalities will draw up a transition vision for heat in consultation with stakeholders by\\n\\n* The transition visions for heat are essential to achieving a low-carbon built environment.\\n\\n* Municipalities will initially be reviewing their transition vision for heat every five years. By\\n\\n* Municipalities, in consultation with the relevant stakeholders, will determine the schedule\\n\\n* In 2019, the national government and the VNG will commission the development of a tool\\n\\n* The national government and the local and regional authorities will draw up a procedure\\n\\n\\n\\n</td>\n",
       "      <td>0.596990</td>\n",
       "    </tr>\n",
       "    <tr>\n",
       "      <th>156480</th>\n",
       "      <td>•At least 60% of thepopulation with access to</td>\n",
       "      <td>0.583521</td>\n",
       "    </tr>\n",
       "    <tr>\n",
       "      <th>319060</th>\n",
       "      <td>Improve the resilience of communities and households by providing information and building capacity, taking account of the distinctive needs of urban and rural communities</td>\n",
       "      <td>0.574159</td>\n",
       "    </tr>\n",
       "    <tr>\n",
       "      <th>418410</th>\n",
       "      <td>To achieve this, the Ministry operates through the following:</td>\n",
       "      <td>0.568902</td>\n",
       "    </tr>\n",
       "    <tr>\n",
       "      <th>406225</th>\n",
       "      <td>In 15 cities with more than 30,000residents, consulting mechanisms forvulnerable customers will beestablished and energy efficiencymeasures in households at risk ofenergy poverty will be implemented.Programme for elimination ofenergy poverty (H.5 [14])</td>\n",
       "      <td>0.568034</td>\n",
       "    </tr>\n",
       "    <tr>\n",
       "      <th>58768</th>\n",
       "      <td>SUSTAINABLE   ENERGY   THROUGH   DEVELOPING   RENEWABLE   AND   OTHER</td>\n",
       "      <td>0.559019</td>\n",
       "    </tr>\n",
       "    <tr>\n",
       "      <th>71735</th>\n",
       "      <td>Investment Fund, held in trust by the World Bank, the Global Environment Facility (GEF), the</td>\n",
       "      <td>0.540779</td>\n",
       "    </tr>\n",
       "    <tr>\n",
       "      <th>354137</th>\n",
       "      <td>Ensures the availability of trained staff at every health facility.</td>\n",
       "      <td>0.528423</td>\n",
       "    </tr>\n",
       "    <tr>\n",
       "      <th>234183</th>\n",
       "      <td>On 29 June 2018, at the proposal of the High Level Group for Agenda 2030, the Council of Ministers approved the ‘Action Plan for the Implementation of Agenda 2030: Towards a Spanish Strategy for Sustainable Development’. This plan highlights Spain's commitment to Agenda 2030 and the need for it to be a reference for all public policies.</td>\n",
       "      <td>0.515909</td>\n",
       "    </tr>\n",
       "    <tr>\n",
       "      <th>486364</th>\n",
       "      <td>mentation of new standards aiming at the reduction of GHG emissions through radio and ICT devices.</td>\n",
       "      <td>0.513256</td>\n",
       "    </tr>\n",
       "    <tr>\n",
       "      <th>205252</th>\n",
       "      <td>The voters, in a number at least equivalent to 0.1% of all permanently registered voters.</td>\n",
       "      <td>0.500000</td>\n",
       "    </tr>\n",
       "    <tr>\n",
       "      <th>585374</th>\n",
       "      <td>This is a 150-200 MW project. Government is currently holding discussions with the initial developer Norpak Power Ltd to develop the project as a public-private partnership. SN Power has declared its intention to join the project.</td>\n",
       "      <td>0.487929</td>\n",
       "    </tr>\n",
       "    <tr>\n",
       "      <th>56297</th>\n",
       "      <td>coming five years, water resource development interventions will include, water supply, irrigation and drainage development, hydropower study and design, surface and ground water study and integrated master plan study and watershed management.</td>\n",
       "      <td>0.464052</td>\n",
       "    </tr>\n",
       "  </tbody>\n",
       "</table>\n",
       "</div>"
      ],
      "text/plain": [
       "                                                                                                                                                                                                                                                                                                                                                                                                                                                                                                                                                                                                                                                                                                                                                                                                                                                                                                                                                                                                                                                                                                                                                                                       text  \\\n",
       "597351                                                                                                                                                                                                                                                                                                                                                                                                                                                                                                                                                                                                                                                                                                                                                                                                                                                                                                                                                                                                                                  Hungary plans to increase the share of energy production based on renewable energy sources within electricity consumption to at least 20 % by 2030.   \n",
       "463066                                                                                                                                                                                                                                                                                                                                                                                                                                                                                                                                                                                                                                                                                                                                                                                                                                                                                                                                                                                                    ii. Estimated trajectories for the sectoral share of renewable energy in final energy consumption from 2021 to 2030 in the electricity, heating and cooling, and transport sector   \n",
       "546547                                                                                                                                                                                                                                                                                                                                                                                                                                                                                                                                                                                                                                                                                                                                                                                                                                                                                                                                                                                                                                                                                                                     123A whole-of-economy Plan to achieve net zero emissions by 2050   \n",
       "597380                                                                                                                                                                                                                                                                                                                                                                                                                                                                                                                                                                                                                                                                                                                                                                                    , which can significantly increase the amount of national and EU funds serving development, and reduce the energy consumption of buildings and GHG emissions. Pursuant to the directive, district heating/district cooling is deemed to be efficient if operating with at least 50 % renewable energy, 50 % waste heat, 75 % cogenerated heat, or 50 % of a combination of such energy resources.   \n",
       "508565                                                                                                                                                                                                                                                                                                                                                                                                                                                                                                                                                                                                                                                                                                                                                                                                                                                                                                                                                                                                                                                                                                                  Reviewing the 2017 -2035 Integrated Resource Plan every five years.   \n",
       "199679                                                                                                                                                                                                                                                                                                                                                                                                                                                                                                                                                                                                                                                                                                                                      By 2040, it is assumed that total GHG emissions from the transport sector will have increased under a scenario with existing measures by approximately 8.2% in comparison to 2016. An increase in road transport is projected. According to estimates, emissions from domestic aviation and railway transport will remain stable from 2016 to 2040. Emissions from domestic shipping are projected to decline because of lower fuel consumption   \n",
       "565982                                                                                                                                                                                                                                                                                                                                                                                                                                                                                                                                                                                                                                                            There are still recently approved sector policy papers which provide for overall objectives related to environmental protection and natural resources management, having actions tangential with biodiversity conservation, especially the National plan for expanding forest vegetation areas for 2014-2018 and the National agricultural and rural development agency for 2014-2020. While the Environmental strategy for 2014-2023 sets out priorities at sector level for assuring environmental protection measures.   \n",
       "692115                                                                                                                                                                                                                                                                                                                                                                                                                                                                                                                                                                                                                                                                                                                                                                                                                                                                                       The project will be conducted in 5 phases. The first phase which involves the deployment of a batch of 1000 kits was completed in April 2019. In order to ensure a fair geographical distribution, the 10,000 photovoltaic kits will be distributed to all regions of Mauritius and Rodrigues.   \n",
       "146779                                                                                                                                                                                                                                                                                                                                                                                                                                                                                                                                                                                                                                                                                                                                                                                                                                                                                                                                                                                 The overall share of GHG emissions from the waste sector is equivalent to <5% of the gross national emissions, with the main gas emitted being methane, mainly from disposal of solid waste to land.   \n",
       "114204                                                                                                                                                                                                                                                                                                                                                                                                                                                                                                                                                                                                                           A new MTDP is currently under development that will set the development agenda over the coming five years. This MTDP will continue work to achieve the goals of the StaRS and Vision 2050 as well as integrating a national interpretation of the global Sustainable Development Goals, which, form part of the 2030 Agenda for Sustainable Development adopted, by all 193 member nations of the UN including PNG, at the United Nations Sustainable Development Summit on 25 September 2015 (further information on the SDGs is also provided in Box 3).   \n",
       "287927                                                                                                                                                                                                                                                                                                                                                                                                                                                                                                                                                                                   The STC’s proposed electric rail network consists of seven lines totalling 5,196 km, with the first and primary line of Addis Ababa – Djibouti opening in 2015. The information sources for this initiative were the Ethiopian Railway Corporation transport plan, the Transport Sector Nationally Appropriate Mitigation Actions Plan, Ministry of Transport data, and statistics from the National Bank of Ethiopia. The abatement potential of shifting freight to electric rail reaches 8.9 Mt CO2e per year in 2030. The abatement potential was calculated using the following assump-tions:   \n",
       "230056                                                                                                                                                                                                                                                                                                                                                                                                                                                                                                                                                                                                                                                                                                                                                                                                                                                                                                                                                                  Furthermore, to ensure that our youth develop a positive relationship with their surroundings, we will introduce Outdoor education programs in the secondary school curriculum for all students in grades 10 to 12.   \n",
       "545233                                                                                                                                                                                                                                                                                                                                                                                                                                                                                                                                                                                                                                                                                                                                                                                                                                                                                                  Australia’s Plan will achieve net zero emissions by 2050 and position our economy to seize the opportunitiesof new and traditional markets (Figure 1.1). Our focus is on driving down technology costs, accelerating theirdeployment at scale, and building our regional economies.   \n",
       "318667                                                                                                                                                                                                                                                                                                                                                                                                                                                                                                                                                                                                                                                                                                                            Phase 2 focuses on achieving our 2030 target of at least 3.5GW of offshore wind to be operational and moving towards full decarbonisation. The Irish Government recognises that to realise the enormous potential of the offshore energy sector will require fully coordinated support across government, from research and development, through supply chain development, to commercial deployment. In the latter part of the decade, Ireland will focus   \n",
       "8661                                                                                                                                                                                                                                                                                                                               The Netherlands has opted to make its contribution based on primary energy consumption in 2030. The Netherlands aims to achieve primary energy consumption of 1,950 petajoules by 2030 (excluding use for non-energy purposes). In terms of final energy consumption, this contribution is translated into an expected final energy consumption of 1,837 petajoules by 2030. According to the European Commission this is a reasonable contribution by the Netherlands. These contributions are based on the definitions adopted in Eurostat in the context of the 2020-2030 energy targets. As a result, the Netherlands is expected to meet the indicative national contribution to the European target. The Dutch contributions will be achieved by implementing the package of policy measures specified in the Climate Agreement (see Chapter 3.2).   \n",
       "299051                                                                                                                                                                                                                                                                                                                                                                                                                                                                                                                                                                                                                                                                                                                                                                                                                                                                                                                                                                               leverage a total investment of over €300 million. The next call for applications under the Climate Action Fund, planned for the second half of 2019, will integrate the lessons learned from the first   \n",
       "697482                                                                                                                                                                                                                                                                                                                                                                                                                                                                                                                                                                                                                                                                                                                                          Liberating the binding constraints in infrastructure will require an increase in the power generating and distribution capacity to 5GW by 2030, the modernization and expansion of port facilities, construction of a second airport and airport city, rehabilitating major trunk and feeder roads, developing water resources to respond sustainably to needs, and linking all major cities and towns to the national fibre optic network.   \n",
       "605825                                                                                                                                                                                                                                                                                                                                                                                                                                                                                                                                                                                                                                                                                                                                                                            The figure below depicts the annual GHG mitigation achieved via the mitigation actions in the energy sector, which is expected to be 627,000 tCO2 against the BAU baseline in 2030. The total investment costs in the energy sector to achieve this level of GHG mitigation is estimated to be US$ 2.97 billion between 2017–2030, plus the estimated US$ 119 million already invested between 2014-2017.   \n",
       "184230                                                                                                                                                                                                                                                                                                                                                                                                                                                                                                                                                                                                                The recommended scenario (Scenario 2) leads to a reduction of 0.83 Mtoe in the final consumption in 2030 compared to the baseline scenario. All of the three scenarios lead to final energy consumption of 3.38 Mtoe in buildings in 2050, which is a 66 % reduction compared to the same year in the baseline scenario. Moreover, Scenario 2 leads to a reduction in CO2 emissions of 2.34 million tonnes compared to the baseline scenario, with an estimated value of 7.50 million tonnes of CO2 emissions generated by the stock of buildings in Romania in 2030.   \n",
       "421250                                                                                                                                                                                                                                                                                                                                                                                                                                                                                                                                                                                                                                        Solar energy is the best option to meeting the renewable energy target, but work on stabilising the national grid is required to allow maximum penetration of solar energy. In addition, due to the intermittent characteristics of solar energy, energy storage is required to save energy that can be used at night time. The total installed solar PV capacity of 343.1 kW could contribute around 5% of solar generation to the electricity generation, assuming the grid instability issue is resolved and battery storage is available.   \n",
       "50435                                                                                                                                                                                                                                                                                                                                                                                                                                                                                                                                                                                                                                                                                                                                                                                                                                                                                                                                                                                                                                                                                                                                  The Middle Path - NATIONAL ENVIRONMENT STRATEGY 2020   \n",
       "333063                                                                                                                                                                                                                                                                                                                                                                                                                                                                                                                                                                                                                                                                                                                                                                                                                                                                                                                                                                                                                                                                                                                                       GHG emissions with a share of about 48% of all   \n",
       "565379                                                                                                                                                                                                                                                                                                                                                                                                                                                                                                                                                                                                                                                                                                                                                                                             At 9.8 million, Malawi•s population has trebled in the past two decades and it continues to grow.  The population is predominantly rural, constituting about 85 percent of the total. Of this, 98 percent derive their livelihood primarily from smallholder agriculture, with 55 percent having less than one hectare of cultivable land an amount inadequate to meet their food needs.   \n",
       "140933                                                                                                                                                                                                                                                                                                                                                                                                                                                                                                                                                                                                                                                                                                                                                                                                                                                                                                                                                                                                                                                                                                         3.11. Strategic Goal 3: Promoting the Sustainable Use of Energy in Transport   \n",
       "474983  In energy efficiency, there are three targets for the period 2021–2030: (i) an indicative target for the sizeof primary energy sources, final consumption and energy intensity; (ii) a binding energy savings target forpublic sector buildings; (iii) a binding year-on-year rate of final consumption savings. These objectivescorrespond to Articles 3, 5 and 7 of the of Directive 2012/27/EU on energy efficiency, as amended. Theaim of the Czech Republic is to reach primary energy sources at the level of 1 735 PJ in 2030, finalconsumption at the level of 990 PJ and energy intensity of GDP at the level of 0.157 MJ/CZK. The CzechRepublic has chosen a target expressed in the energy intensity of GDP as its primary objective. On thebasis of an assumed energy performance of central institution buildings in 2020, the Czech Republic setthe commitment to achieve energy savings in buildings with low energy performance of these institutionsof 124 TJ, in accordance with the rules of the Energy Efficiency Directive. Furthermore, in accordancewith Article 7, a commitment of cumulated energy savings of 462 PJ was set on the basis of the available   \n",
       "439473                                                                                                                                                                                                                                                                                                                                                                                                                                                                                                                                                                                                                                                                                                                                                                                                                                                                                                                                                                                                                                                                                                                            Almost 40 percent of total final energy in Germany is con   \n",
       "598846                                                                                                                                                                                                                                                                                                                                                                                                                                                                                                                                                                                                                                                                                                                                                                                                                                                                                                                                                                                                                                                                                                                 The weight of renewables will sharply increase in the sector by 2030   \n",
       "580409                                                                                                                                                                                                                                                                                                                                                                                                                                                                                                                                                                              * Municipalities will draw up a transition vision for heat in consultation with stakeholders by\\n\\n* The transition visions for heat are essential to achieving a low-carbon built environment.\\n\\n* Municipalities will initially be reviewing their transition vision for heat every five years. By\\n\\n* Municipalities, in consultation with the relevant stakeholders, will determine the schedule\\n\\n* In 2019, the national government and the VNG will commission the development of a tool\\n\\n* The national government and the local and regional authorities will draw up a procedure\\n\\n\\n\\n   \n",
       "156480                                                                                                                                                                                                                                                                                                                                                                                                                                                                                                                                                                                                                                                                                                                                                                                                                                                                                                                                                                                                                                                                                                                                        •At least 60% of thepopulation with access to   \n",
       "319060                                                                                                                                                                                                                                                                                                                                                                                                                                                                                                                                                                                                                                                                                                                                                                                                                                                                                                                                                                                                          Improve the resilience of communities and households by providing information and building capacity, taking account of the distinctive needs of urban and rural communities   \n",
       "418410                                                                                                                                                                                                                                                                                                                                                                                                                                                                                                                                                                                                                                                                                                                                                                                                                                                                                                                                                                                                                                                                                                                        To achieve this, the Ministry operates through the following:   \n",
       "406225                                                                                                                                                                                                                                                                                                                                                                                                                                                                                                                                                                                                                                                                                                                                                                                                                                                                                                                         In 15 cities with more than 30,000residents, consulting mechanisms forvulnerable customers will beestablished and energy efficiencymeasures in households at risk ofenergy poverty will be implemented.Programme for elimination ofenergy poverty (H.5 [14])   \n",
       "58768                                                                                                                                                                                                                                                                                                                                                                                                                                                                                                                                                                                                                                                                                                                                                                                                                                                                                                                                                                                                                                                                                                                 SUSTAINABLE   ENERGY   THROUGH   DEVELOPING   RENEWABLE   AND   OTHER   \n",
       "71735                                                                                                                                                                                                                                                                                                                                                                                                                                                                                                                                                                                                                                                                                                                                                                                                                                                                                                                                                                                                                                                                                          Investment Fund, held in trust by the World Bank, the Global Environment Facility (GEF), the   \n",
       "354137                                                                                                                                                                                                                                                                                                                                                                                                                                                                                                                                                                                                                                                                                                                                                                                                                                                                                                                                                                                                                                                                                                                  Ensures the availability of trained staff at every health facility.   \n",
       "234183                                                                                                                                                                                                                                                                                                                                                                                                                                                                                                                                                                                                                                                                                                                                                                                                                                   On 29 June 2018, at the proposal of the High Level Group for Agenda 2030, the Council of Ministers approved the ‘Action Plan for the Implementation of Agenda 2030: Towards a Spanish Strategy for Sustainable Development’. This plan highlights Spain's commitment to Agenda 2030 and the need for it to be a reference for all public policies.   \n",
       "486364                                                                                                                                                                                                                                                                                                                                                                                                                                                                                                                                                                                                                                                                                                                                                                                                                                                                                                                                                                                                                                                                                   mentation of new standards aiming at the reduction of GHG emissions through radio and ICT devices.   \n",
       "205252                                                                                                                                                                                                                                                                                                                                                                                                                                                                                                                                                                                                                                                                                                                                                                                                                                                                                                                                                                                                                                                                                            The voters, in a number at least equivalent to 0.1% of all permanently registered voters.   \n",
       "585374                                                                                                                                                                                                                                                                                                                                                                                                                                                                                                                                                                                                                                                                                                                                                                                                                                                                                                                                               This is a 150-200 MW project. Government is currently holding discussions with the initial developer Norpak Power Ltd to develop the project as a public-private partnership. SN Power has declared its intention to join the project.   \n",
       "56297                                                                                                                                                                                                                                                                                                                                                                                                                                                                                                                                                                                                                                                                                                                                                                                                                                                                                                                                   coming five years, water resource development interventions will include, water supply, irrigation and drainage development, hydropower study and design, surface and ground water study and integrated master plan study and watershed management.   \n",
       "\n",
       "        pred_proba  \n",
       "597351    0.997320  \n",
       "463066    0.992897  \n",
       "546547    0.987859  \n",
       "597380    0.985047  \n",
       "508565    0.971286  \n",
       "199679    0.966296  \n",
       "565982    0.947643  \n",
       "692115    0.944234  \n",
       "146779    0.931353  \n",
       "114204    0.919491  \n",
       "287927    0.913199  \n",
       "230056    0.904086  \n",
       "545233    0.887396  \n",
       "318667    0.855725  \n",
       "8661      0.822975  \n",
       "299051    0.804840  \n",
       "697482    0.797078  \n",
       "605825    0.775895  \n",
       "184230    0.772648  \n",
       "421250    0.771770  \n",
       "50435     0.741057  \n",
       "333063    0.687354  \n",
       "565379    0.641543  \n",
       "140933    0.637343  \n",
       "474983    0.629011  \n",
       "439473    0.620230  \n",
       "598846    0.603618  \n",
       "580409    0.596990  \n",
       "156480    0.583521  \n",
       "319060    0.574159  \n",
       "418410    0.568902  \n",
       "406225    0.568034  \n",
       "58768     0.559019  \n",
       "71735     0.540779  \n",
       "354137    0.528423  \n",
       "234183    0.515909  \n",
       "486364    0.513256  \n",
       "205252    0.500000  \n",
       "585374    0.487929  \n",
       "56297     0.464052  "
      ]
     },
     "metadata": {},
     "output_type": "display_data"
    }
   ],
   "source": [
    "X_sample = np.vstack([doc.vector for doc in nlp.pipe(text_sample['text'].tolist())])\n",
    "display(X_sample.shape)\n",
    "\n",
    "y_pred = clf.predict(X_sample)\n",
    "y_pred_proba = clf.predict_proba(X_sample)\n",
    "\n",
    "text_sample['pred'] = y_pred\n",
    "text_sample['pred_proba'] = y_pred_proba[:,1]\n",
    "\n",
    "display(\"Top 40 predictions by probability, descending\")\n",
    "with pd.option_context(\"display.max_colwidth\", None):\n",
    "    display(text_sample.sort_values('pred_proba', ascending=False).loc[:, ['text', 'pred_proba']].head(40))"
   ]
  },
  {
   "cell_type": "code",
   "execution_count": null,
   "id": "e63c9a4a-0343-4033-bc82-bc59761e1272",
   "metadata": {},
   "outputs": [],
   "source": []
  }
 ],
 "metadata": {
  "kernelspec": {
   "display_name": "Python 3 (ipykernel)",
   "language": "python",
   "name": "python3"
  },
  "language_info": {
   "codemirror_mode": {
    "name": "ipython",
    "version": 3
   },
   "file_extension": ".py",
   "mimetype": "text/x-python",
   "name": "python",
   "nbconvert_exporter": "python",
   "pygments_lexer": "ipython3",
   "version": "3.8.12"
  }
 },
 "nbformat": 4,
 "nbformat_minor": 5
}
