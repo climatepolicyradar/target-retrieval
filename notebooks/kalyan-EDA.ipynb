{
 "cells": [
  {
   "cell_type": "code",
   "execution_count": 43,
   "id": "31faf18a-217b-43ed-a774-0231d2b50da0",
   "metadata": {
    "tags": []
   },
   "outputs": [],
   "source": [
    "import re\n",
    "from collections import Counter\n",
    "\n",
    "import pandas as pd\n",
    "import numpy as np\n",
    "import spacy\n",
    "import seaborn as sns\n",
    "from scipy.spatial.distance import cosine\n",
    "\n",
    "# download the first time\n",
    "# !spacy download \"en_core_web_sm\""
   ]
  },
  {
   "cell_type": "markdown",
   "id": "18001220-7d1b-47a2-8d7e-5263020abd94",
   "metadata": {},
   "source": [
    "## 1. import data"
   ]
  },
  {
   "cell_type": "code",
   "execution_count": 2,
   "id": "4462c0b4-266f-4ff6-9203-1ee0f9b8cb54",
   "metadata": {},
   "outputs": [],
   "source": [
    "DATA_PATH = \"../data/interim/targets_data.csv\"\n",
    "df = pd.read_csv(DATA_PATH)\n",
    "\n",
    "pd.set_option(\"display.max_colwidth\", None)\n",
    "\n",
    "df['Date of Event'] = df['Date of Event'].astype(int)  \n",
    "\n",
    "columns_drop = [\n",
    "    \"Who's Adding the Target\", \n",
    "    'Date of Entry', \n",
    "    # 'Target ID', \n",
    "    # 'Document ID',\n",
    "    # 'Country Name', \n",
    "    # 'GHG/NON-GHG', \n",
    "    # 'Sector', \n",
    "    # 'Target Scope', \n",
    "    # 'Target Type',   \n",
    "    # 'Is Target Per Capita?', \n",
    "    'Target Summary', \n",
    "    # 'Target Description',\n",
    "    'Target Signals', \n",
    "    # 'Target Page Number',\n",
    "    'Page Numbers: PDF or Document?', \n",
    "    'Target Base Year Period',\n",
    "    'Target Year', \n",
    "    'Single or Multi-Year Target', \n",
    "    # 'Date of Event',\n",
    "    'Comments / Further Information - instruments, errors, etc'\n",
    "]\n",
    "\n",
    "df = df.drop(columns=columns_drop)"
   ]
  },
  {
   "cell_type": "code",
   "execution_count": 3,
   "id": "521a9d5e-fe68-40a5-9c4d-2b38d85ce37c",
   "metadata": {},
   "outputs": [],
   "source": [
    "rnd_seed = 142\n",
    "nlp = spacy.load(\"en_core_web_sm\")"
   ]
  },
  {
   "cell_type": "markdown",
   "id": "b7c65212-a09a-44d6-b187-75f3740485d8",
   "metadata": {},
   "source": [
    "## 2. EDA"
   ]
  },
  {
   "cell_type": "markdown",
   "id": "163cad08-262f-4e35-88c7-932574053374",
   "metadata": {},
   "source": [
    "### 2.1 descriptive statistics"
   ]
  },
  {
   "cell_type": "code",
   "execution_count": 4,
   "id": "572b3ad2-5974-433b-8538-909143058672",
   "metadata": {},
   "outputs": [
    {
     "name": "stdout",
     "output_type": "stream",
     "text": [
      "Total num targets: 251\n",
      "Duplicated targets: 15 (23 if counting duplicates as separate targets)\n"
     ]
    }
   ],
   "source": [
    "print(f\"Total num targets: {len(df)}\")\n",
    "\n",
    "duplicates = df.loc[df.duplicated('Target Description'), 'Target Description']\n",
    "print(f\"Duplicated targets: {len(duplicates.unique())} ({len(duplicates)} if counting duplicates as separate targets)\" )"
   ]
  },
  {
   "cell_type": "markdown",
   "id": "264f835c-97ec-49c3-ad54-af298992868c",
   "metadata": {},
   "source": [
    "**for the rest of this notebook we drop rows with duplicate target text**"
   ]
  },
  {
   "cell_type": "code",
   "execution_count": 5,
   "id": "3320a413-b427-43b3-8d49-6c7e543ba669",
   "metadata": {},
   "outputs": [
    {
     "data": {
      "text/plain": [
       "228"
      ]
     },
     "execution_count": 5,
     "metadata": {},
     "output_type": "execute_result"
    }
   ],
   "source": [
    "df = df.drop_duplicates(subset='Target Description')\n",
    "len(df)"
   ]
  },
  {
   "cell_type": "markdown",
   "id": "9031fbef-5763-4fd7-b0ef-376fad7fdfd7",
   "metadata": {
    "tags": []
   },
   "source": [
    "### 2.2 years and year ranges\n",
    "\n",
    "> about 50% of targets contain mentions of years. 16 (13%) of these year mentions are year ranges rather than individual years"
   ]
  },
  {
   "cell_type": "code",
   "execution_count": 6,
   "id": "7c1c45c9-c688-42ed-877f-48540ac9565b",
   "metadata": {},
   "outputs": [
    {
     "data": {
      "text/plain": [
       "_contains_year  _contains_year_range\n",
       "False           False                   124\n",
       "True            False                    88\n",
       "                True                     16\n",
       "Name: Target Description, dtype: int64"
      ]
     },
     "execution_count": 6,
     "metadata": {},
     "output_type": "execute_result"
    }
   ],
   "source": [
    "def get_years(val: str) -> bool:\n",
    "    # exclude vals=0: there is a 3,0000 figure in the data\n",
    "    return [int(i) for i in re.findall(r\"\\d{4}\", val) if int(i) > 0]\n",
    "\n",
    "def contains_year_range(val: str) -> bool:\n",
    "    return bool(\n",
    "        # 2008-9 or 2009-10 or 2009-2010\n",
    "        re.findall(r\"\\d{4}-\\d{1,2}\", val) + re.findall(r\"\\d{4}-\\d{4}\", val) + re.findall(r\"\\d{4} to \\d{4}\", val)\n",
    "    )\n",
    "\n",
    "df['_years'] = df[\"Target Description\"].apply(get_years)\n",
    "df[\"_contains_year\"] = df['_years'].apply(bool)\n",
    "df['_max_year'] = df['_years'].apply(lambda l: max(l) if l else np.nan)\n",
    "df['_max_year_ge_doc_created'] = df['_max_year'] >= df['Date of Event']\n",
    "df['_contains_year_range'] = df[\"Target Description\"].apply(contains_year_range)\n",
    "\n",
    "df.groupby([\"_contains_year\", \"_contains_year_range\"]).count()[\"Target Description\"]"
   ]
  },
  {
   "cell_type": "markdown",
   "id": "4fb27869-2328-42dd-931f-6402621afd28",
   "metadata": {},
   "source": [
    "> most targets contain (max) years that are in the future. Where they don't, this tends to be a metadata issue (e.g. a document is a later revision) or because the year isn't the target year"
   ]
  },
  {
   "cell_type": "code",
   "execution_count": 7,
   "id": "6a6aa417-2f82-43dc-bed2-bf67220cf3d0",
   "metadata": {},
   "outputs": [
    {
     "data": {
      "text/plain": [
       "_max_year_ge_doc_created\n",
       "False    13\n",
       "True     91\n",
       "Name: Document ID, dtype: int64"
      ]
     },
     "metadata": {},
     "output_type": "display_data"
    },
    {
     "data": {
      "image/png": "[encoded data removed]",
      "text/plain": [
       "<Figure size 432x288 with 1 Axes>"
      ]
     },
     "metadata": {
      "needs_background": "light"
     },
     "output_type": "display_data"
    }
   ],
   "source": [
    "display(df[df['_contains_year']].groupby('_max_year_ge_doc_created').count()[\"Document ID\"])\n",
    "\n",
    "sns.boxenplot(data=df['_max_year'] - df[\"Date of Event\"], orient=\"h\").set_title(\"Distribution of (maximum year found in target - document year)\");"
   ]
  },
  {
   "cell_type": "markdown",
   "id": "485fb7e0-f7cb-4ca0-9145-340eae9c0cc9",
   "metadata": {},
   "source": [
    "### 2.3 figures that aren't years"
   ]
  },
  {
   "cell_type": "markdown",
   "id": "47932a0f-b9c9-42ae-822e-1963d9a557d7",
   "metadata": {},
   "source": [
    "> most targets contain a numerical non-year value (date, cardinal, quantity or percent) - there are some false negatives in this count too"
   ]
  },
  {
   "cell_type": "code",
   "execution_count": 8,
   "id": "321bee5a-6068-4f61-ac3c-a3f4d91ac0dd",
   "metadata": {
    "tags": []
   },
   "outputs": [
    {
     "data": {
      "text/plain": [
       "_contains_date_ent\n",
       "False    203\n",
       "True      25\n",
       "Name: Document ID, dtype: int64"
      ]
     },
     "metadata": {},
     "output_type": "display_data"
    },
    {
     "data": {
      "text/plain": [
       "_contains_cardinal_ent\n",
       "False    119\n",
       "True     109\n",
       "Name: Document ID, dtype: int64"
      ]
     },
     "metadata": {},
     "output_type": "display_data"
    },
    {
     "data": {
      "text/plain": [
       "_contains_quantity_ent\n",
       "False    219\n",
       "True       9\n",
       "Name: Document ID, dtype: int64"
      ]
     },
     "metadata": {},
     "output_type": "display_data"
    },
    {
     "data": {
      "text/plain": [
       "_contains_percent_ent\n",
       "False    154\n",
       "True      74\n",
       "Name: Document ID, dtype: int64"
      ]
     },
     "metadata": {},
     "output_type": "display_data"
    },
    {
     "data": {
      "text/plain": [
       "_contains_ordinal_ent\n",
       "False    220\n",
       "True       8\n",
       "Name: Document ID, dtype: int64"
      ]
     },
     "metadata": {},
     "output_type": "display_data"
    },
    {
     "name": "stdout",
     "output_type": "stream",
     "text": [
      "------------------------------\n"
     ]
    },
    {
     "data": {
      "text/plain": [
       "_contains_minimum\n",
       "False    220\n",
       "True       8\n",
       "Name: Document ID, dtype: int64"
      ]
     },
     "metadata": {},
     "output_type": "display_data"
    },
    {
     "data": {
      "text/plain": [
       "_contains_maximum\n",
       "False    227\n",
       "True       1\n",
       "Name: Document ID, dtype: int64"
      ]
     },
     "metadata": {},
     "output_type": "display_data"
    }
   ],
   "source": [
    "ent_types = (\"DATE\", \"CARDINAL\", \"QUANTITY\", \"PERCENT\", \"ORDINAL\")\n",
    "\n",
    "ent_col_names = []\n",
    "ent_bool_col_names = []\n",
    "\n",
    "for idx, row in df.iterrows():\n",
    "    doc = nlp(row[\"Target Description\"])\n",
    "    \n",
    "    for ent_type in ent_types:\n",
    "        # exclude years\n",
    "        ent_vals = [ent.text for ent in doc.ents if ent.label_ == ent_type if not get_years(ent.text)]\n",
    "        \n",
    "        col_name = f\"_ents_{ent_type.lower()}\"\n",
    "        ent_col_names.append(col_name)\n",
    "        df.at[idx, col_name] = ent_vals or np.nan\n",
    "        \n",
    "    df.at[idx, \"_n_sentences\"] = len(list(doc.sents))\n",
    "    \n",
    "for ent_type in ent_types:\n",
    "    boolean_col_name = f'_contains_{ent_type.lower()}_ent'\n",
    "    ent_bool_col_names.append(boolean_col_name)\n",
    "    \n",
    "    df[boolean_col_name] = df[f'_ents_{ent_type.lower()}'].notnull()\n",
    "    display(df.groupby(boolean_col_name).count()[\"Document ID\"])\n",
    "    \n",
    "# maximum and minimum\n",
    "print(\"------------------------------\")\n",
    "for v in (\"minimum\", \"maximum\"):\n",
    "    bool_col = f'_contains_{v}'\n",
    "    df[bool_col] = df['Target Description'].apply(lambda i: v in i.lower())\n",
    "\n",
    "    display(df.groupby(bool_col).count()[\"Document ID\"])"
   ]
  },
  {
   "cell_type": "markdown",
   "id": "98ba2789-66e8-45d2-9e81-40c85534164e",
   "metadata": {},
   "source": [
    "> targets that contain combinations of numerical entities are most likely to contain a combination of cardinal and date figures, followed by percent and date figures."
   ]
  },
  {
   "cell_type": "code",
   "execution_count": 9,
   "id": "0d727138-ad47-4c4e-9179-643031161825",
   "metadata": {},
   "outputs": [
    {
     "data": {
      "text/plain": [
       "<AxesSubplot:>"
      ]
     },
     "execution_count": 9,
     "metadata": {},
     "output_type": "execute_result"
    },
    {
     "data": {
      "image/png": "[encoded data removed]",
      "text/plain": [
       "<Figure size 432x288 with 2 Axes>"
      ]
     },
     "metadata": {
      "needs_background": "light"
     },
     "output_type": "display_data"
    }
   ],
   "source": [
    "sns.heatmap(df[ent_bool_col_names].corr(method=np.dot))"
   ]
  },
  {
   "cell_type": "markdown",
   "id": "a31cd6a7-1fcc-4419-90b2-e556ccf3cbd8",
   "metadata": {},
   "source": [
    "> most of the non-year dates talk mention 'annual(ly)' or 'n years'"
   ]
  },
  {
   "cell_type": "code",
   "execution_count": 10,
   "id": "63caf782-09a9-41cb-b92d-e9175fb920ed",
   "metadata": {},
   "outputs": [
    {
     "data": {
      "text/plain": [
       "['15 years',\n",
       " '5 years',\n",
       " '5 years',\n",
       " '5 years',\n",
       " '80 years',\n",
       " 'Annually',\n",
       " 'Five Year Plan',\n",
       " 'Monthly',\n",
       " 'The target year',\n",
       " 'a year',\n",
       " 'annual',\n",
       " 'annual',\n",
       " 'annual',\n",
       " 'annually',\n",
       " 'annually',\n",
       " 'close to 80 years',\n",
       " 'five years',\n",
       " 'five-year',\n",
       " 'five-year',\n",
       " 'the 75th year',\n",
       " 'the current year',\n",
       " 'the end of the',\n",
       " 'the next 5 years',\n",
       " 'the next five years',\n",
       " 'the next five years',\n",
       " 'the next five years',\n",
       " 'today']"
      ]
     },
     "execution_count": 10,
     "metadata": {},
     "output_type": "execute_result"
    }
   ],
   "source": [
    "sorted(df.loc[df['_contains_date_ent'], \"_ents_date\"].sum())"
   ]
  },
  {
   "cell_type": "markdown",
   "id": "d2cfb256-8246-47c9-b6b6-e9593e787240",
   "metadata": {},
   "source": [
    "### 2.4 Number of sentences"
   ]
  },
  {
   "cell_type": "markdown",
   "id": "a8793df2-fbc1-46e9-b29d-13b5c2bc8af9",
   "metadata": {},
   "source": [
    "> most targets are 1 sentence long"
   ]
  },
  {
   "cell_type": "code",
   "execution_count": 11,
   "id": "7d6488f0-1d3c-45d1-b9fd-cf4f68a5b109",
   "metadata": {},
   "outputs": [
    {
     "data": {
      "text/plain": [
       "_n_sentences\n",
       "1.0    207\n",
       "2.0     19\n",
       "3.0      2\n",
       "Name: Document ID, dtype: int64"
      ]
     },
     "execution_count": 11,
     "metadata": {},
     "output_type": "execute_result"
    }
   ],
   "source": [
    "df.groupby([\"_n_sentences\"]).count()[\"Document ID\"]"
   ]
  },
  {
   "cell_type": "markdown",
   "id": "81cdc660-54d2-4632-8f19-9be106deb231",
   "metadata": {},
   "source": [
    "> *\"Construction of perinatal center in Bishkek funded by the German Government\"* target seems to be lacking context?"
   ]
  },
  {
   "cell_type": "code",
   "execution_count": 12,
   "id": "47273319-fa0d-47f7-a8a6-8593031f3d27",
   "metadata": {},
   "outputs": [
    {
     "data": {
      "text/html": [
       "<div>\n",
       "<style scoped>\n",
       "    .dataframe tbody tr th:only-of-type {\n",
       "        vertical-align: middle;\n",
       "    }\n",
       "\n",
       "    .dataframe tbody tr th {\n",
       "        vertical-align: top;\n",
       "    }\n",
       "\n",
       "    .dataframe thead th {\n",
       "        text-align: right;\n",
       "    }\n",
       "</style>\n",
       "<table border=\"1\" class=\"dataframe\">\n",
       "  <thead>\n",
       "    <tr style=\"text-align: right;\">\n",
       "      <th></th>\n",
       "      <th>Target ID</th>\n",
       "      <th>Document ID</th>\n",
       "      <th>Country Name</th>\n",
       "      <th>GHG/NON-GHG</th>\n",
       "      <th>Sector</th>\n",
       "      <th>Target Scope</th>\n",
       "      <th>Target Type</th>\n",
       "      <th>Is Target Per Capita?</th>\n",
       "      <th>Target Description</th>\n",
       "      <th>Target Page Number</th>\n",
       "      <th>Date of Event</th>\n",
       "    </tr>\n",
       "  </thead>\n",
       "  <tbody>\n",
       "    <tr>\n",
       "      <th>189</th>\n",
       "      <td>167</td>\n",
       "      <td>9532</td>\n",
       "      <td>Bhutan</td>\n",
       "      <td>GHG</td>\n",
       "      <td>Economy-wide</td>\n",
       "      <td>Carbon neutrality</td>\n",
       "      <td>Fixed level target</td>\n",
       "      <td>No</td>\n",
       "      <td>Carbon Neutral Declaration: The “Declaration of the Kingdom of Bhutan - The Land of Gross National Happiness to Save our Planet” made by the Kingdom of Bhutan in 2009 and reaffirmed in 2015 is a unilateral declaration and may have the status of international customary law. Therefore, as far as the obligations of Bhutan are concerned; the commitment to ensure GHG emissions remain below forest sinks must be fulfilled.</td>\n",
       "      <td>10</td>\n",
       "      <td>2020</td>\n",
       "    </tr>\n",
       "    <tr>\n",
       "      <th>81</th>\n",
       "      <td>66</td>\n",
       "      <td>10368</td>\n",
       "      <td>Kyrgyzstan</td>\n",
       "      <td>Non-GHG</td>\n",
       "      <td>Health</td>\n",
       "      <td>Health services</td>\n",
       "      <td>Fixed level target</td>\n",
       "      <td>No</td>\n",
       "      <td>Construction of perinatal center in Bishkek funded by the German Government. ✓ Construction of neurosurgical center of the National Hospital of the Ministry of Health of the Kyrgyz Republic. ✓ Construction of the surgical building of the city children’s clinical emergency hospital.</td>\n",
       "      <td>112</td>\n",
       "      <td>2018</td>\n",
       "    </tr>\n",
       "    <tr>\n",
       "      <th>20</th>\n",
       "      <td>17</td>\n",
       "      <td>9217</td>\n",
       "      <td>India</td>\n",
       "      <td>Non-GHG</td>\n",
       "      <td>Public sector</td>\n",
       "      <td>Public sector</td>\n",
       "      <td>Fixed level target</td>\n",
       "      <td>No</td>\n",
       "      <td>18 new Indian diplomatic Missions in Africa approved in March, 2018, out of which 5 already opened. Another 4 new Embassies intended in 2019-20.</td>\n",
       "      <td>13</td>\n",
       "      <td>2019</td>\n",
       "    </tr>\n",
       "    <tr>\n",
       "      <th>173</th>\n",
       "      <td>152</td>\n",
       "      <td>4815 part 1</td>\n",
       "      <td>Sri Lanka</td>\n",
       "      <td>Non-GHG</td>\n",
       "      <td>Energy</td>\n",
       "      <td>Renewable energy</td>\n",
       "      <td>Fixed level target</td>\n",
       "      <td>No</td>\n",
       "      <td>The Government will endeavour to reach a minimum level of 10% of electrical energy supplied to the grid to be from NRE by a process of facilitation including access to green funding such as CDM. The target year to reach this level of NRE penetration is 2015.</td>\n",
       "      <td>10</td>\n",
       "      <td>2008</td>\n",
       "    </tr>\n",
       "    <tr>\n",
       "      <th>170</th>\n",
       "      <td>149</td>\n",
       "      <td>4815 part 2</td>\n",
       "      <td>Sri Lanka</td>\n",
       "      <td>Non-GHG</td>\n",
       "      <td>Transport</td>\n",
       "      <td>Electric vehicles</td>\n",
       "      <td>Fixed level target</td>\n",
       "      <td>No</td>\n",
       "      <td>At least 20% of all new light vehicle registrations shall be electric vehicles in 2022. At least 25 new public electric vehicle charging stations with DC rapid charging capability will be established at strategic locations by the CEB/LECO by 2020.</td>\n",
       "      <td>19</td>\n",
       "      <td>2019</td>\n",
       "    </tr>\n",
       "  </tbody>\n",
       "</table>\n",
       "</div>"
      ],
      "text/plain": [
       "     Target ID  Document ID Country Name GHG/NON-GHG         Sector  \\\n",
       "189        167         9532       Bhutan         GHG   Economy-wide   \n",
       "81          66        10368   Kyrgyzstan     Non-GHG         Health   \n",
       "20          17         9217        India     Non-GHG  Public sector   \n",
       "173        152  4815 part 1    Sri Lanka     Non-GHG         Energy   \n",
       "170        149  4815 part 2    Sri Lanka     Non-GHG      Transport   \n",
       "\n",
       "          Target Scope         Target Type Is Target Per Capita?  \\\n",
       "189  Carbon neutrality  Fixed level target                    No   \n",
       "81     Health services  Fixed level target                    No   \n",
       "20       Public sector  Fixed level target                    No   \n",
       "173   Renewable energy  Fixed level target                    No   \n",
       "170  Electric vehicles  Fixed level target                    No   \n",
       "\n",
       "                                                                                                                                                                                                                                                                                                                                                                                                                      Target Description  \\\n",
       "189  Carbon Neutral Declaration: The “Declaration of the Kingdom of Bhutan - The Land of Gross National Happiness to Save our Planet” made by the Kingdom of Bhutan in 2009 and reaffirmed in 2015 is a unilateral declaration and may have the status of international customary law. Therefore, as far as the obligations of Bhutan are concerned; the commitment to ensure GHG emissions remain below forest sinks must be fulfilled.   \n",
       "81                                                                                                                                            Construction of perinatal center in Bishkek funded by the German Government. ✓ Construction of neurosurgical center of the National Hospital of the Ministry of Health of the Kyrgyz Republic. ✓ Construction of the surgical building of the city children’s clinical emergency hospital.   \n",
       "20                                                                                                                                                                                                                                                                                      18 new Indian diplomatic Missions in Africa approved in March, 2018, out of which 5 already opened. Another 4 new Embassies intended in 2019-20.   \n",
       "173                                                                                                                                                                   The Government will endeavour to reach a minimum level of 10% of electrical energy supplied to the grid to be from NRE by a process of facilitation including access to green funding such as CDM. The target year to reach this level of NRE penetration is 2015.   \n",
       "170                                                                                                                                                                              At least 20% of all new light vehicle registrations shall be electric vehicles in 2022. At least 25 new public electric vehicle charging stations with DC rapid charging capability will be established at strategic locations by the CEB/LECO by 2020.   \n",
       "\n",
       "    Target Page Number  Date of Event  \n",
       "189                 10           2020  \n",
       "81                 112           2018  \n",
       "20                  13           2019  \n",
       "173                 10           2008  \n",
       "170                 19           2019  "
      ]
     },
     "execution_count": 12,
     "metadata": {},
     "output_type": "execute_result"
    }
   ],
   "source": [
    "# some targets with 3 or 2 sentences\n",
    "df.sort_values('_n_sentences', ascending=False).head(5)[[col for col in df.columns if not col.startswith(\"_\")]]"
   ]
  },
  {
   "cell_type": "markdown",
   "id": "d45db3b5-3fd3-4260-9f67-b1b15cd463ec",
   "metadata": {},
   "source": [
    "### 2.5 common ngrams"
   ]
  },
  {
   "cell_type": "code",
   "execution_count": 50,
   "id": "c2c3e716-1f0e-47db-b79a-35ab6ca88ffc",
   "metadata": {},
   "outputs": [
    {
     "name": "stderr",
     "output_type": "stream",
     "text": [
      "[nltk_data] Downloading package stopwords to\n",
      "[nltk_data]     /Users/kalyan/nltk_data...\n",
      "[nltk_data]   Package stopwords is already up-to-date!\n"
     ]
    }
   ],
   "source": [
    "import string\n",
    "import random\n",
    "import nltk\n",
    "nltk.download('stopwords')\n",
    "from nltk.corpus import stopwords\n",
    "from nltk.tokenize import word_tokenize\n",
    "from nltk.util import ngrams\n",
    "\n",
    "# input the reuters sentences\n",
    "sents = df['Target Description'].tolist()\n",
    " \n",
    "# write the removal characters such as : Stopwords and punctuation\n",
    "stop_words = set(stopwords.words('english'))\n",
    "punctuation = string.punctuation + '\"' + '-' + \"'\" +'–' + \"'\"\n",
    "\n",
    "tokens_remove = list(stop_words) + list(punctuation)\n",
    " \n",
    "# remove stopwords & punctuation\n",
    "processed_sents = []\n",
    "\n",
    "for sent in sents:\n",
    "    processed_sents.append(\n",
    "        \" \".join([tok for tok in word_tokenize(sent) if tok not in tokens_remove])\n",
    "    )\n",
    "\n",
    "# create lists of ngrams\n",
    "unigrams = []\n",
    "bigrams = []\n",
    "trigrams = []\n",
    "\n",
    "for sentence in processed_sents:\n",
    "    sent_split = sentence.lower().split()\n",
    "    \n",
    "    unigrams.extend(sent_split)\n",
    "    bigrams.extend(ngrams(\n",
    "        sent_split, \n",
    "        2, \n",
    "        pad_left=False, \n",
    "        pad_right=False,\n",
    "    ))\n",
    "    trigrams.extend(ngrams(\n",
    "        sent_split, \n",
    "        3, \n",
    "        pad_left=False, \n",
    "        pad_right=False\n",
    "    ))\n"
   ]
  },
  {
   "cell_type": "markdown",
   "id": "c080d62b-2179-4d57-8522-a72f7b973d7c",
   "metadata": {},
   "source": [
    "> the most common ngrams seem to be overfitting to the longest document in the dataset"
   ]
  },
  {
   "cell_type": "code",
   "execution_count": 52,
   "id": "6119dd3b-bf14-428d-9c4a-3e144241432b",
   "metadata": {},
   "outputs": [
    {
     "name": "stdout",
     "output_type": "stream",
     "text": [
      "unigrams\n"
     ]
    },
    {
     "data": {
      "text/plain": [
       "[('energy', 59),\n",
       " ('✓', 49),\n",
       " ('the', 41),\n",
       " ('new', 31),\n",
       " ('water', 27),\n",
       " ('2030', 23),\n",
       " ('centers', 23),\n",
       " ('hectares', 21),\n",
       " ('20', 21),\n",
       " ('reduction', 21)]"
      ]
     },
     "metadata": {},
     "output_type": "display_data"
    },
    {
     "name": "stdout",
     "output_type": "stream",
     "text": [
      "\n",
      "bigrams\n"
     ]
    },
    {
     "data": {
      "text/plain": [
       "[(('energy', 'consumption'), 16),\n",
       " (('water', 'supply'), 13),\n",
       " (('specific', 'energy'), 13),\n",
       " (('drinking', 'water'), 12),\n",
       " (('✓', 'construction'), 12),\n",
       " (('✓', 'modernization'), 12),\n",
       " (('modern', 'equipment'), 12),\n",
       " (('irrigated', 'land'), 11),\n",
       " (('thousand', 'hectares'), 10),\n",
       " (('new', 'irrigated'), 9)]"
      ]
     },
     "metadata": {},
     "output_type": "display_data"
    },
    {
     "name": "stdout",
     "output_type": "stream",
     "text": [
      "\n",
      "trigrams\n"
     ]
    },
    {
     "data": {
      "text/plain": [
       "[(('new', 'irrigated', 'land'), 9),\n",
       " (('hectares', 'new', 'irrigated'), 8),\n",
       " (('specific', 'energy', 'consumption'), 8),\n",
       " (('family', 'medicine', 'centers'), 7),\n",
       " (('social', 'assistance', 'centers'), 7),\n",
       " (('assistance', 'centers', 'disadvantaged'), 7),\n",
       " (('centers', 'disadvantaged', 'families'), 7),\n",
       " (('disadvantaged', 'families', 'children'), 7),\n",
       " (('families', 'children', 'centers'), 7),\n",
       " (('children', 'centers', 'responsible'), 7)]"
      ]
     },
     "metadata": {},
     "output_type": "display_data"
    }
   ],
   "source": [
    "print(\"unigrams\")\n",
    "display(Counter(unigrams).most_common(10))\n",
    "\n",
    "print(\"\\nbigrams\")\n",
    "display(Counter(bigrams).most_common(10))\n",
    "\n",
    "print(\"\\ntrigrams\")\n",
    "display(Counter(trigrams).most_common(10))\n"
   ]
  },
  {
   "cell_type": "markdown",
   "id": "c8fd0533-b724-4de7-ad23-fc958461821b",
   "metadata": {},
   "source": [
    "#### ngrams containing years"
   ]
  },
  {
   "cell_type": "code",
   "execution_count": 53,
   "id": "07214d87-80bc-493a-917b-e37fb4fa578e",
   "metadata": {},
   "outputs": [],
   "source": [
    "bigrams_with_year = [g for g in bigrams if any([re.match(r\"\\d{4}\", word) for word in g])]\n",
    "trigrams_with_year = [g for g in trigrams if any([re.match(r\"\\d{4}\", word) for word in g])]"
   ]
  },
  {
   "cell_type": "markdown",
   "id": "c4074031-ac81-4081-a5b0-8e9a60a5ebf5",
   "metadata": {},
   "source": [
    "> the informative trigrams (*2015 baseline*, *2030 relative*) once again seem to come from the same set of targets"
   ]
  },
  {
   "cell_type": "code",
   "execution_count": 58,
   "id": "b410ae0c-12e8-4344-a1d1-03a8f5826a71",
   "metadata": {},
   "outputs": [
    {
     "name": "stdout",
     "output_type": "stream",
     "text": [
      "bigrams containing year\n"
     ]
    },
    {
     "data": {
      "text/plain": [
       "[(('relative', '2015'), 6),\n",
       " (('2015', 'baseline'), 6),\n",
       " (('2030', 'relative'), 5),\n",
       " (('by', '2023'), 4),\n",
       " (('20', '2030'), 4),\n",
       " (('set', '2019-20'), 3),\n",
       " (('end', '2023'), 3),\n",
       " (('2015', 'level'), 3),\n",
       " (('10', '2022'), 3),\n",
       " (('set', '2019-2020'), 2)]"
      ]
     },
     "metadata": {},
     "output_type": "display_data"
    },
    {
     "name": "stdout",
     "output_type": "stream",
     "text": [
      "\n",
      "trigrams containing year\n"
     ]
    },
    {
     "data": {
      "text/plain": [
       "[(('relative', '2015', 'baseline'), 6),\n",
       " (('2030', 'relative', '2015'), 5),\n",
       " (('corporation', 'set', '2019-2020'), 2),\n",
       " (('rural', 'households', '2024'), 2),\n",
       " (('new', 'clusters', '2019-20'), 2),\n",
       " (('incubators', 'tbis', '2019-20'), 2),\n",
       " (('tbis', '2019-20', 'develop'), 2),\n",
       " (('2019-20', 'develop', '75,000'), 2),\n",
       " (('11.6', 'end', '2023'), 2),\n",
       " (('value', 'chains', '2050'), 2)]"
      ]
     },
     "metadata": {},
     "output_type": "display_data"
    }
   ],
   "source": [
    "print(\"bigrams containing year\")\n",
    "display(Counter(bigrams_with_year).most_common(10))\n",
    "\n",
    "print(\"\\ntrigrams containing year\")\n",
    "display(Counter(trigrams_with_year).most_common(10))"
   ]
  },
  {
   "cell_type": "code",
   "execution_count": null,
   "id": "b31dbdc7-27a7-45a5-9e91-58a5fad43d43",
   "metadata": {},
   "outputs": [],
   "source": []
  }
 ],
 "metadata": {
  "kernelspec": {
   "display_name": "Python 3 (ipykernel)",
   "language": "python",
   "name": "python3"
  },
  "language_info": {
   "codemirror_mode": {
    "name": "ipython",
    "version": 3
   },
   "file_extension": ".py",
   "mimetype": "text/x-python",
   "name": "python",
   "nbconvert_exporter": "python",
   "pygments_lexer": "ipython3",
   "version": "3.8.12"
  }
 },
 "nbformat": 4,
 "nbformat_minor": 5
}
