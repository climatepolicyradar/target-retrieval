{
 "cells": [
  {
   "cell_type": "code",
   "execution_count": 1,
   "id": "31faf18a-217b-43ed-a774-0231d2b50da0",
   "metadata": {
    "tags": []
   },
   "outputs": [],
   "source": [
    "import re\n",
    "from collections import Counter\n",
    "from typing import List, Tuple\n",
    "\n",
    "import pandas as pd\n",
    "import numpy as np\n",
    "import spacy\n",
    "import seaborn as sns\n",
    "from scipy.spatial.distance import cosine\n",
    "\n",
    "# download the first time\n",
    "# !spacy download \"en_core_web_sm\""
   ]
  },
  {
   "cell_type": "markdown",
   "id": "18001220-7d1b-47a2-8d7e-5263020abd94",
   "metadata": {},
   "source": [
    "## 1. import data"
   ]
  },
  {
   "cell_type": "code",
   "execution_count": 2,
   "id": "4462c0b4-266f-4ff6-9203-1ee0f9b8cb54",
   "metadata": {},
   "outputs": [],
   "source": [
    "DATA_PATH = \"../data/interim/targets_data.csv\"\n",
    "df = pd.read_csv(DATA_PATH)\n",
    "\n",
    "pd.set_option(\"display.max_colwidth\", None)\n",
    "\n",
    "df['Date of Event'] = df['Date of Event'].astype(int, errors='ignore')  \n",
    "\n",
    "columns_drop = [\n",
    "    \"Who's Adding the Target\", \n",
    "    'Date of Entry', \n",
    "    # 'Target ID', \n",
    "    # 'Document ID',\n",
    "    # 'Country Name', \n",
    "    # 'GHG/NON-GHG', \n",
    "    # 'Sector', \n",
    "    # 'Target Scope', \n",
    "    # 'Target Type',   \n",
    "    # 'Is Target Per Capita?', \n",
    "    'Target Summary', \n",
    "    # 'Target Description',\n",
    "    'Target Signals', \n",
    "    # 'Target Page Number',\n",
    "    'Page Numbers: PDF or Document?', \n",
    "    'Target Base Year Period',\n",
    "    'Target Year', \n",
    "    'Single or Multi-Year Target', \n",
    "    # 'Date of Event',\n",
    "    'Comments / Further Information - instruments, errors, etc'\n",
    "]\n",
    "\n",
    "df = df.drop(columns=columns_drop)\n",
    "\n",
    "df_not_targets = df[~df['is_target']]\n",
    "df = df[df['is_target']]"
   ]
  },
  {
   "cell_type": "code",
   "execution_count": 3,
   "id": "521a9d5e-fe68-40a5-9c4d-2b38d85ce37c",
   "metadata": {},
   "outputs": [],
   "source": [
    "rnd_seed = 142\n",
    "nlp = spacy.load(\"en_core_web_sm\")"
   ]
  },
  {
   "cell_type": "markdown",
   "id": "b7c65212-a09a-44d6-b187-75f3740485d8",
   "metadata": {},
   "source": [
    "## 2. EDA"
   ]
  },
  {
   "cell_type": "markdown",
   "id": "163cad08-262f-4e35-88c7-932574053374",
   "metadata": {},
   "source": [
    "### 2.1 descriptive statistics"
   ]
  },
  {
   "cell_type": "code",
   "execution_count": 4,
   "id": "572b3ad2-5974-433b-8538-909143058672",
   "metadata": {},
   "outputs": [
    {
     "name": "stdout",
     "output_type": "stream",
     "text": [
      "Total num targets: 324\n",
      "Duplicated targets: 8 (10 if counting duplicates as separate targets)\n"
     ]
    }
   ],
   "source": [
    "print(f\"Total num targets: {len(df)}\")\n",
    "\n",
    "duplicates = df.loc[df.duplicated('Target Description'), 'Target Description']\n",
    "print(f\"Duplicated targets: {len(duplicates.unique())} ({len(duplicates)} if counting duplicates as separate targets)\" )"
   ]
  },
  {
   "cell_type": "markdown",
   "id": "264f835c-97ec-49c3-ad54-af298992868c",
   "metadata": {},
   "source": [
    "**for the rest of this notebook we drop rows with duplicate target text**"
   ]
  },
  {
   "cell_type": "code",
   "execution_count": 5,
   "id": "3320a413-b427-43b3-8d49-6c7e543ba669",
   "metadata": {},
   "outputs": [
    {
     "data": {
      "text/plain": [
       "314"
      ]
     },
     "execution_count": 5,
     "metadata": {},
     "output_type": "execute_result"
    }
   ],
   "source": [
    "df = df.drop_duplicates(subset='Target Description')\n",
    "len(df)"
   ]
  },
  {
   "cell_type": "markdown",
   "id": "9031fbef-5763-4fd7-b0ef-376fad7fdfd7",
   "metadata": {
    "tags": []
   },
   "source": [
    "### 2.2 years and year ranges\n",
    "\n",
    "> over 50% of targets contain mentions of years. 23 of these year mentions are year ranges rather than individual years"
   ]
  },
  {
   "cell_type": "code",
   "execution_count": 6,
   "id": "7c1c45c9-c688-42ed-877f-48540ac9565b",
   "metadata": {},
   "outputs": [
    {
     "data": {
      "text/plain": [
       "_contains_year  _contains_year_range\n",
       "False           False                   134\n",
       "True            False                   157\n",
       "                True                     23\n",
       "Name: Target Description, dtype: int64"
      ]
     },
     "execution_count": 6,
     "metadata": {},
     "output_type": "execute_result"
    }
   ],
   "source": [
    "def get_years(val: str) -> bool:\n",
    "    # exclude vals=0: there is a 3,0000 figure in the data\n",
    "    return [int(i) for i in re.findall(r\"\\d{4}\", val) if 0 < int(i) < 2100]\n",
    "\n",
    "def contains_year_range(val: str) -> bool:\n",
    "    return bool(\n",
    "        # 2008-9 or 2009-10 or 2009-2010\n",
    "        re.findall(r\"\\d{4}-\\d{1,2}\", val) + re.findall(r\"\\d{4}-\\d{4}\", val) + re.findall(r\"\\d{4} to \\d{4}\", val)\n",
    "    )\n",
    "\n",
    "df['_years'] = df[\"Target Description\"].apply(get_years)\n",
    "df[\"_contains_year\"] = df['_years'].apply(bool)\n",
    "df['_max_year'] = df['_years'].apply(lambda l: max(l) if l else np.nan)\n",
    "df['_max_year_ge_doc_created'] = df['_max_year'] >= df['Date of Event']\n",
    "df['_contains_year_range'] = df[\"Target Description\"].apply(contains_year_range)\n",
    "\n",
    "df.groupby([\"_contains_year\", \"_contains_year_range\"]).count()[\"Target Description\"]"
   ]
  },
  {
   "cell_type": "markdown",
   "id": "4fb27869-2328-42dd-931f-6402621afd28",
   "metadata": {},
   "source": [
    "> most targets contain (max) years that are in the future. Where they don't, this tends to be:\n",
    "* a metadata issue (e.g. a document is a later revision),\n",
    "* because the year isn't the target year, or .\n",
    "* because the document is referring to a target that was created in a previous document, or\n",
    "* because the year isn't in a target (e.g. it's in the name of another policy that's referenced)."
   ]
  },
  {
   "cell_type": "code",
   "execution_count": 7,
   "id": "6a6aa417-2f82-43dc-bed2-bf67220cf3d0",
   "metadata": {},
   "outputs": [
    {
     "data": {
      "text/plain": [
       "_max_year_ge_doc_created\n",
       "False     13\n",
       "True     132\n",
       "Name: Document ID, dtype: int64"
      ]
     },
     "metadata": {},
     "output_type": "display_data"
    },
    {
     "data": {
      "image/png": "[encoded data removed]",
      "text/plain": [
       "<Figure size 432x288 with 1 Axes>"
      ]
     },
     "metadata": {
      "needs_background": "light"
     },
     "output_type": "display_data"
    }
   ],
   "source": [
    "display(df[df['_contains_year'] & df['Date of Event']].groupby('_max_year_ge_doc_created').count()[\"Document ID\"])\n",
    "\n",
    "sns.boxenplot(data=df['_max_year'] - df[\"Date of Event\"], orient=\"h\").set_title(\"Distribution of (maximum year found in target - document year)\");"
   ]
  },
  {
   "cell_type": "markdown",
   "id": "485fb7e0-f7cb-4ca0-9145-340eae9c0cc9",
   "metadata": {},
   "source": [
    "### 2.3 figures that aren't years"
   ]
  },
  {
   "cell_type": "markdown",
   "id": "47932a0f-b9c9-42ae-822e-1963d9a557d7",
   "metadata": {},
   "source": [
    "> most targets contain a numerical non-year value (date, cardinal, quantity or percent) - there are some false negatives in this count too"
   ]
  },
  {
   "cell_type": "code",
   "execution_count": 9,
   "id": "321bee5a-6068-4f61-ac3c-a3f4d91ac0dd",
   "metadata": {
    "tags": []
   },
   "outputs": [
    {
     "data": {
      "text/plain": [
       "_contains_date_ent\n",
       "False    267\n",
       "True      39\n",
       "Name: Document ID, dtype: int64"
      ]
     },
     "metadata": {},
     "output_type": "display_data"
    },
    {
     "data": {
      "text/plain": [
       "_contains_cardinal_ent\n",
       "False    176\n",
       "True     130\n",
       "Name: Document ID, dtype: int64"
      ]
     },
     "metadata": {},
     "output_type": "display_data"
    },
    {
     "data": {
      "text/plain": [
       "_contains_quantity_ent\n",
       "False    292\n",
       "True      14\n",
       "Name: Document ID, dtype: int64"
      ]
     },
     "metadata": {},
     "output_type": "display_data"
    },
    {
     "data": {
      "text/plain": [
       "_contains_percent_ent\n",
       "False    168\n",
       "True     138\n",
       "Name: Document ID, dtype: int64"
      ]
     },
     "metadata": {},
     "output_type": "display_data"
    },
    {
     "data": {
      "text/plain": [
       "_contains_ordinal_ent\n",
       "False    291\n",
       "True      15\n",
       "Name: Document ID, dtype: int64"
      ]
     },
     "metadata": {},
     "output_type": "display_data"
    },
    {
     "name": "stdout",
     "output_type": "stream",
     "text": [
      "------------------------------\n"
     ]
    },
    {
     "data": {
      "text/plain": [
       "_contains_minimum\n",
       "False    292\n",
       "True      14\n",
       "Name: Document ID, dtype: int64"
      ]
     },
     "metadata": {},
     "output_type": "display_data"
    },
    {
     "data": {
      "text/plain": [
       "_contains_maximum\n",
       "False    305\n",
       "True       1\n",
       "Name: Document ID, dtype: int64"
      ]
     },
     "metadata": {},
     "output_type": "display_data"
    }
   ],
   "source": [
    "ent_types = (\"DATE\", \"CARDINAL\", \"QUANTITY\", \"PERCENT\", \"ORDINAL\")\n",
    "\n",
    "ent_col_names = []\n",
    "ent_bool_col_names = []\n",
    "\n",
    "for idx, row in df.iterrows():\n",
    "    doc = nlp(row[\"Target Description\"])\n",
    "    \n",
    "    for ent_type in ent_types:\n",
    "        # exclude years\n",
    "        ent_vals = [ent.text for ent in doc.ents if ent.label_ == ent_type if not get_years(ent.text)]\n",
    "        \n",
    "        col_name = f\"_ents_{ent_type.lower()}\"\n",
    "        ent_col_names.append(col_name)\n",
    "        df.at[idx, col_name] = ent_vals or np.nan\n",
    "        \n",
    "    df.at[idx, \"_n_sentences\"] = len(list(doc.sents))\n",
    "    \n",
    "for ent_type in ent_types:\n",
    "    boolean_col_name = f'_contains_{ent_type.lower()}_ent'\n",
    "    ent_bool_col_names.append(boolean_col_name)\n",
    "    \n",
    "    df[boolean_col_name] = df[f'_ents_{ent_type.lower()}'].notnull()\n",
    "    display(df.groupby(boolean_col_name).count()[\"Document ID\"])\n",
    "    \n",
    "# maximum and minimum\n",
    "print(\"------------------------------\")\n",
    "for v in (\"minimum\", \"maximum\"):\n",
    "    bool_col = f'_contains_{v}'\n",
    "    df[bool_col] = df['Target Description'].apply(lambda i: v in i.lower())\n",
    "\n",
    "    display(df.groupby(bool_col).count()[\"Document ID\"])"
   ]
  },
  {
   "cell_type": "markdown",
   "id": "98ba2789-66e8-45d2-9e81-40c85534164e",
   "metadata": {},
   "source": [
    "> targets that contain combinations of numerical entities are most likely to contain a combination of cardinal and percent figures, followed by percent and date figures"
   ]
  },
  {
   "cell_type": "code",
   "execution_count": 10,
   "id": "0d727138-ad47-4c4e-9179-643031161825",
   "metadata": {},
   "outputs": [
    {
     "data": {
      "text/plain": [
       "<AxesSubplot:>"
      ]
     },
     "execution_count": 10,
     "metadata": {},
     "output_type": "execute_result"
    },
    {
     "data": {
      "image/png": "[encoded data removed]",
      "text/plain": [
       "<Figure size 432x288 with 2 Axes>"
      ]
     },
     "metadata": {
      "needs_background": "light"
     },
     "output_type": "display_data"
    }
   ],
   "source": [
    "sns.heatmap(df[ent_bool_col_names].corr(method=np.dot))"
   ]
  },
  {
   "cell_type": "markdown",
   "id": "a31cd6a7-1fcc-4419-90b2-e556ccf3cbd8",
   "metadata": {},
   "source": [
    "> most of the non-year dates talk mention 'annual(ly)' or 'n years'"
   ]
  },
  {
   "cell_type": "code",
   "execution_count": 11,
   "id": "63caf782-09a9-41cb-b92d-e9175fb920ed",
   "metadata": {},
   "outputs": [
    {
     "data": {
      "text/plain": [
       "['15 years',\n",
       " '5 years',\n",
       " '5 years',\n",
       " '5 years',\n",
       " '80 years',\n",
       " 'Annually',\n",
       " 'Five Year Plan',\n",
       " 'Monthly',\n",
       " 'The target year',\n",
       " 'a\\ndecade',\n",
       " 'a year',\n",
       " 'annual',\n",
       " 'annual',\n",
       " 'annual',\n",
       " 'annual',\n",
       " 'annual',\n",
       " 'annual',\n",
       " 'annually',\n",
       " 'annually',\n",
       " 'close to 80 years',\n",
       " 'five years',\n",
       " 'five-year',\n",
       " 'five-year',\n",
       " 'that same decade',\n",
       " 'that year',\n",
       " 'that year',\n",
       " 'the 75th year',\n",
       " 'the coming decades',\n",
       " 'the coming years',\n",
       " 'the current year',\n",
       " 'the end of the',\n",
       " 'the next 15 years',\n",
       " 'the next 5 years',\n",
       " 'the next 5 years',\n",
       " 'the next five years',\n",
       " 'the next five years',\n",
       " 'the next five years',\n",
       " 'the year',\n",
       " 'the year',\n",
       " 'the year',\n",
       " 'the year',\n",
       " 'those years',\n",
       " 'today']"
      ]
     },
     "execution_count": 11,
     "metadata": {},
     "output_type": "execute_result"
    }
   ],
   "source": [
    "sorted(df.loc[df['_contains_date_ent'], \"_ents_date\"].sum())"
   ]
  },
  {
   "cell_type": "markdown",
   "id": "d2cfb256-8246-47c9-b6b6-e9593e787240",
   "metadata": {},
   "source": [
    "### 2.4 Number of sentences"
   ]
  },
  {
   "cell_type": "markdown",
   "id": "a8793df2-fbc1-46e9-b29d-13b5c2bc8af9",
   "metadata": {},
   "source": [
    "> most targets are 1 sentence long. The vast majority are 1 or 2 sentences long."
   ]
  },
  {
   "cell_type": "code",
   "execution_count": 13,
   "id": "7d6488f0-1d3c-45d1-b9fd-cf4f68a5b109",
   "metadata": {},
   "outputs": [
    {
     "data": {
      "text/plain": [
       "_n_sentences\n",
       "1.0    274\n",
       "2.0     29\n",
       "3.0      3\n",
       "Name: Document ID, dtype: int64"
      ]
     },
     "execution_count": 13,
     "metadata": {},
     "output_type": "execute_result"
    }
   ],
   "source": [
    "df.groupby([\"_n_sentences\"]).count()[\"Document ID\"]"
   ]
  },
  {
   "cell_type": "markdown",
   "id": "81cdc660-54d2-4632-8f19-9be106deb231",
   "metadata": {},
   "source": [
    "> *\"Construction of perinatal center in Bishkek funded by the German Government\"* target seems to be lacking context?"
   ]
  },
  {
   "cell_type": "code",
   "execution_count": 14,
   "id": "47273319-fa0d-47f7-a8a6-8593031f3d27",
   "metadata": {},
   "outputs": [
    {
     "data": {
      "text/html": [
       "<div>\n",
       "<style scoped>\n",
       "    .dataframe tbody tr th:only-of-type {\n",
       "        vertical-align: middle;\n",
       "    }\n",
       "\n",
       "    .dataframe tbody tr th {\n",
       "        vertical-align: top;\n",
       "    }\n",
       "\n",
       "    .dataframe thead th {\n",
       "        text-align: right;\n",
       "    }\n",
       "</style>\n",
       "<table border=\"1\" class=\"dataframe\">\n",
       "  <thead>\n",
       "    <tr style=\"text-align: right;\">\n",
       "      <th></th>\n",
       "      <th>Target ID</th>\n",
       "      <th>Document ID</th>\n",
       "      <th>Country Name</th>\n",
       "      <th>GHG/NON-GHG</th>\n",
       "      <th>Sector</th>\n",
       "      <th>Target Scope</th>\n",
       "      <th>Target Type</th>\n",
       "      <th>Is Target Per Capita?</th>\n",
       "      <th>Target Description</th>\n",
       "      <th>Target Page Number</th>\n",
       "      <th>Date of Event</th>\n",
       "      <th>kalyan note</th>\n",
       "      <th>Target Description (original language)</th>\n",
       "      <th>temp translated</th>\n",
       "      <th>is_target</th>\n",
       "    </tr>\n",
       "  </thead>\n",
       "  <tbody>\n",
       "    <tr>\n",
       "      <th>42</th>\n",
       "      <td>31.0</td>\n",
       "      <td>10368</td>\n",
       "      <td>Kyrgyzstan</td>\n",
       "      <td>Non-GHG</td>\n",
       "      <td>Social development</td>\n",
       "      <td>NaN</td>\n",
       "      <td>Fixed level target</td>\n",
       "      <td>No</td>\n",
       "      <td>Vision: By 2040, the economic well-being of the people will be guaranteed by creating productive jobs that provide decent employment and stable incomes. 80% of working population will have decent wages and labor conditions. Kyrgyzstan is among the top 60 countries with a high UNDP Human Development Index.</td>\n",
       "      <td>30</td>\n",
       "      <td>2018.0</td>\n",
       "      <td>NaN</td>\n",
       "      <td>NaN</td>\n",
       "      <td>NaN</td>\n",
       "      <td>True</td>\n",
       "    </tr>\n",
       "    <tr>\n",
       "      <th>185</th>\n",
       "      <td>167.0</td>\n",
       "      <td>9532</td>\n",
       "      <td>Bhutan</td>\n",
       "      <td>GHG</td>\n",
       "      <td>Economy-wide</td>\n",
       "      <td>Carbon neutrality</td>\n",
       "      <td>Fixed level target</td>\n",
       "      <td>No</td>\n",
       "      <td>Carbon Neutral Declaration: The “Declaration of the Kingdom of Bhutan - The Land of Gross National Happiness to Save our Planet” made by the Kingdom of Bhutan in 2009 and reaffirmed in 2015 is a unilateral declaration and may have the status of international customary law. Therefore, as far as the obligations of Bhutan are concerned; the commitment to ensure GHG emissions remain below forest sinks must be fulfilled.</td>\n",
       "      <td>10</td>\n",
       "      <td>2020.0</td>\n",
       "      <td>NaN</td>\n",
       "      <td>NaN</td>\n",
       "      <td>NaN</td>\n",
       "      <td>True</td>\n",
       "    </tr>\n",
       "    <tr>\n",
       "      <th>73</th>\n",
       "      <td>66.0</td>\n",
       "      <td>10368</td>\n",
       "      <td>Kyrgyzstan</td>\n",
       "      <td>Non-GHG</td>\n",
       "      <td>Health</td>\n",
       "      <td>Health services</td>\n",
       "      <td>Fixed level target</td>\n",
       "      <td>No</td>\n",
       "      <td>Construction of perinatal center in Bishkek funded by the German Government. ✓ Construction of neurosurgical center of the National Hospital of the Ministry of Health of the Kyrgyz Republic. ✓ Construction of the surgical building of the city children’s clinical emergency hospital.</td>\n",
       "      <td>112</td>\n",
       "      <td>2018.0</td>\n",
       "      <td>this is given context by its heading ('practical steps of regional development') so hard to express as targets, although definitely targets</td>\n",
       "      <td>NaN</td>\n",
       "      <td>NaN</td>\n",
       "      <td>True</td>\n",
       "    </tr>\n",
       "    <tr>\n",
       "      <th>112</th>\n",
       "      <td>104.0</td>\n",
       "      <td>10368</td>\n",
       "      <td>Kyrgyzstan</td>\n",
       "      <td>Non-GHG</td>\n",
       "      <td>Health</td>\n",
       "      <td>Health services</td>\n",
       "      <td>Fixed level target</td>\n",
       "      <td>No</td>\n",
       "      <td>✓ Modernization of 21 family medicine centers and equipping them with modern equipment. ✓ Modernization of multidisciplinary hospital with modern equipment for high-level emergency care.</td>\n",
       "      <td>121</td>\n",
       "      <td>2018.0</td>\n",
       "      <td>NaN</td>\n",
       "      <td>NaN</td>\n",
       "      <td>NaN</td>\n",
       "      <td>True</td>\n",
       "    </tr>\n",
       "    <tr>\n",
       "      <th>200</th>\n",
       "      <td>182.0</td>\n",
       "      <td>10222</td>\n",
       "      <td>Bhutan</td>\n",
       "      <td>Non-GHG</td>\n",
       "      <td>Energy</td>\n",
       "      <td>Renewable energy: hydro</td>\n",
       "      <td>Fixed level target</td>\n",
       "      <td>No</td>\n",
       "      <td>There are six fully commissioned hydropower projects with a total installed capacity of 2,326 MW in operation. This is less than 10% of the potential, and as per the policy, Bhutan aims to achieve a minimum power generation of 5,000 MW by 2022.</td>\n",
       "      <td>94</td>\n",
       "      <td>2019.0</td>\n",
       "      <td>NaN</td>\n",
       "      <td>NaN</td>\n",
       "      <td>NaN</td>\n",
       "      <td>True</td>\n",
       "    </tr>\n",
       "  </tbody>\n",
       "</table>\n",
       "</div>"
      ],
      "text/plain": [
       "     Target ID Document ID Country Name GHG/NON-GHG              Sector  \\\n",
       "42        31.0       10368   Kyrgyzstan     Non-GHG  Social development   \n",
       "185      167.0        9532       Bhutan         GHG        Economy-wide   \n",
       "73        66.0       10368   Kyrgyzstan     Non-GHG              Health   \n",
       "112      104.0       10368   Kyrgyzstan     Non-GHG              Health   \n",
       "200      182.0       10222       Bhutan     Non-GHG              Energy   \n",
       "\n",
       "                Target Scope         Target Type Is Target Per Capita?  \\\n",
       "42                       NaN  Fixed level target                    No   \n",
       "185        Carbon neutrality  Fixed level target                    No   \n",
       "73           Health services  Fixed level target                    No   \n",
       "112          Health services  Fixed level target                    No   \n",
       "200  Renewable energy: hydro  Fixed level target                    No   \n",
       "\n",
       "                                                                                                                                                                                                                                                                                                                                                                                                                      Target Description  \\\n",
       "42                                                                                                                    Vision: By 2040, the economic well-being of the people will be guaranteed by creating productive jobs that provide decent employment and stable incomes. 80% of working population will have decent wages and labor conditions. Kyrgyzstan is among the top 60 countries with a high UNDP Human Development Index.   \n",
       "185  Carbon Neutral Declaration: The “Declaration of the Kingdom of Bhutan - The Land of Gross National Happiness to Save our Planet” made by the Kingdom of Bhutan in 2009 and reaffirmed in 2015 is a unilateral declaration and may have the status of international customary law. Therefore, as far as the obligations of Bhutan are concerned; the commitment to ensure GHG emissions remain below forest sinks must be fulfilled.   \n",
       "73                                                                                                                                            Construction of perinatal center in Bishkek funded by the German Government. ✓ Construction of neurosurgical center of the National Hospital of the Ministry of Health of the Kyrgyz Republic. ✓ Construction of the surgical building of the city children’s clinical emergency hospital.   \n",
       "112                                                                                                                                                                                                                                           ✓ Modernization of 21 family medicine centers and equipping them with modern equipment. ✓ Modernization of multidisciplinary hospital with modern equipment for high-level emergency care.   \n",
       "200                                                                                                                                                                                 There are six fully commissioned hydropower projects with a total installed capacity of 2,326 MW in operation. This is less than 10% of the potential, and as per the policy, Bhutan aims to achieve a minimum power generation of 5,000 MW by 2022.   \n",
       "\n",
       "    Target Page Number  Date of Event  \\\n",
       "42                  30         2018.0   \n",
       "185                 10         2020.0   \n",
       "73                 112         2018.0   \n",
       "112                121         2018.0   \n",
       "200                 94         2019.0   \n",
       "\n",
       "                                                                                                                                     kalyan note  \\\n",
       "42                                                                                                                                           NaN   \n",
       "185                                                                                                                                          NaN   \n",
       "73   this is given context by its heading ('practical steps of regional development') so hard to express as targets, although definitely targets   \n",
       "112                                                                                                                                          NaN   \n",
       "200                                                                                                                                          NaN   \n",
       "\n",
       "    Target Description (original language) temp translated  is_target  \n",
       "42                                     NaN             NaN       True  \n",
       "185                                    NaN             NaN       True  \n",
       "73                                     NaN             NaN       True  \n",
       "112                                    NaN             NaN       True  \n",
       "200                                    NaN             NaN       True  "
      ]
     },
     "execution_count": 14,
     "metadata": {},
     "output_type": "execute_result"
    }
   ],
   "source": [
    "# some targets with 3 or 2 sentences\n",
    "df.sort_values('_n_sentences', ascending=False).head(5)[[col for col in df.columns if not col.startswith(\"_\")]]"
   ]
  },
  {
   "cell_type": "markdown",
   "id": "d45db3b5-3fd3-4260-9f67-b1b15cd463ec",
   "metadata": {},
   "source": [
    "### 2.5 common ngrams"
   ]
  },
  {
   "cell_type": "code",
   "execution_count": 15,
   "id": "c2c3e716-1f0e-47db-b79a-35ab6ca88ffc",
   "metadata": {},
   "outputs": [
    {
     "name": "stderr",
     "output_type": "stream",
     "text": [
      "[nltk_data] Downloading package stopwords to\n",
      "[nltk_data]     /Users/kalyan/nltk_data...\n",
      "[nltk_data]   Package stopwords is already up-to-date!\n"
     ]
    }
   ],
   "source": [
    "import string\n",
    "import random\n",
    "import nltk\n",
    "nltk.download('stopwords')\n",
    "from nltk.corpus import stopwords\n",
    "from nltk.tokenize import word_tokenize\n",
    "from nltk.util import ngrams\n",
    "\n",
    "# input the reuters sentences\n",
    "sents = df['Target Description'].tolist()\n",
    " \n",
    "# write the removal characters such as : Stopwords and punctuation\n",
    "stop_words = set(stopwords.words('english'))\n",
    "punctuation = string.punctuation\n",
    "\n",
    "tokens_remove = list(stop_words) + list(punctuation)\n",
    "\n",
    "def process_sentence(sent: str) -> str:\n",
    "    \"\"\"Remove stopwords and punctuation\"\"\"\n",
    "    \n",
    "    return \" \".join([tok for tok in word_tokenize(sent) if tok not in tokens_remove])\n",
    "    \n",
    "def get_ngrams(sentence: str, n: int) -> List[Tuple[str]]:\n",
    "    sent_split = sentence.lower().split()\n",
    "    \n",
    "    if n == 1:\n",
    "        return sent_split\n",
    "    else:\n",
    "        return list(ngrams(\n",
    "            sent_split, \n",
    "            n, \n",
    "            pad_left=False, \n",
    "            pad_right=False,\n",
    "        ))\n",
    "    \n",
    "df['_target_no_stopwords'] = df['Target Description'].apply(process_sentence)\n",
    "df[['_unigrams', '_bigrams', '_trigrams']] = \"\"\n",
    "\n",
    "for idx, row in df.iterrows():\n",
    "    unigrams = get_ngrams(row[\"_target_no_stopwords\"], 1)\n",
    "    bigrams = get_ngrams(row[\"_target_no_stopwords\"], 2)\n",
    "    trigrams = get_ngrams(row[\"_target_no_stopwords\"], 3)\n",
    "    \n",
    "    df.at[idx, '_unigrams'] = unigrams\n",
    "    df.at[idx, '_bigrams'] = bigrams\n",
    "    df.at[idx, '_trigrams'] = trigrams\n",
    "\n",
    "all_unigrams = df['_unigrams'].sum()\n",
    "all_bigrams = df['_bigrams'].sum()\n",
    "all_trigrams = df['_trigrams'].sum()"
   ]
  },
  {
   "cell_type": "markdown",
   "id": "c080d62b-2179-4d57-8522-a72f7b973d7c",
   "metadata": {},
   "source": [
    "> the most common ngrams seem to be overfitting to the longest document in the dataset"
   ]
  },
  {
   "cell_type": "code",
   "execution_count": 16,
   "id": "6119dd3b-bf14-428d-9c4a-3e144241432b",
   "metadata": {},
   "outputs": [
    {
     "name": "stdout",
     "output_type": "stream",
     "text": [
      "unigrams\n"
     ]
    },
    {
     "data": {
      "text/plain": [
       "[('energy', 105),\n",
       " ('the', 64),\n",
       " ('2030', 49),\n",
       " ('✓', 49),\n",
       " ('renewable', 43),\n",
       " ('least', 39),\n",
       " ('new', 38),\n",
       " ('2050', 37),\n",
       " ('reduction', 35),\n",
       " ('electricity', 30)]"
      ]
     },
     "metadata": {},
     "output_type": "display_data"
    },
    {
     "name": "stdout",
     "output_type": "stream",
     "text": [
      "\n",
      "bigrams\n"
     ]
    },
    {
     "data": {
      "text/plain": [
       "[(('energy', 'consumption'), 20),\n",
       " (('renewable', 'energy'), 18),\n",
       " (('water', 'supply'), 13),\n",
       " (('drinking', 'water'), 12),\n",
       " (('✓', 'construction'), 12),\n",
       " (('✓', 'modernization'), 12),\n",
       " (('modern', 'equipment'), 12),\n",
       " (('specific', 'energy'), 12),\n",
       " (('irrigated', 'land'), 11),\n",
       " (('thousand', 'hectares'), 10)]"
      ]
     },
     "metadata": {},
     "output_type": "display_data"
    },
    {
     "name": "stdout",
     "output_type": "stream",
     "text": [
      "\n",
      "trigrams\n"
     ]
    },
    {
     "data": {
      "text/plain": [
       "[(('new', 'irrigated', 'land'), 9),\n",
       " (('hectares', 'new', 'irrigated'), 8),\n",
       " (('specific', 'energy', 'consumption'), 8),\n",
       " (('relative', '2015', 'baseline'), 8),\n",
       " (('greenhouse', 'gas', 'emissions'), 8),\n",
       " (('family', 'medicine', 'centers'), 7),\n",
       " (('social', 'assistance', 'centers'), 7),\n",
       " (('assistance', 'centers', 'disadvantaged'), 7),\n",
       " (('centers', 'disadvantaged', 'families'), 7),\n",
       " (('disadvantaged', 'families', 'children'), 7)]"
      ]
     },
     "metadata": {},
     "output_type": "display_data"
    }
   ],
   "source": [
    "print(\"unigrams\")\n",
    "display(Counter(all_unigrams).most_common(10))\n",
    "\n",
    "print(\"\\nbigrams\")\n",
    "display(Counter(all_bigrams).most_common(10))\n",
    "\n",
    "print(\"\\ntrigrams\")\n",
    "display(Counter(all_trigrams).most_common(10))\n"
   ]
  },
  {
   "cell_type": "markdown",
   "id": "c8fd0533-b724-4de7-ad23-fc958461821b",
   "metadata": {},
   "source": [
    "#### ngrams containing years"
   ]
  },
  {
   "cell_type": "markdown",
   "id": "c4074031-ac81-4081-a5b0-8e9a60a5ebf5",
   "metadata": {},
   "source": [
    "> the informative trigrams (*2015 baseline*, *2030 relative*) once again seem to be specific to the same set of targets"
   ]
  },
  {
   "cell_type": "code",
   "execution_count": 17,
   "id": "b410ae0c-12e8-4344-a1d1-03a8f5826a71",
   "metadata": {},
   "outputs": [
    {
     "name": "stdout",
     "output_type": "stream",
     "text": [
      "bigrams containing year\n"
     ]
    },
    {
     "data": {
      "text/plain": [
       "[(('compared', '1990'), 10),\n",
       " (('relative', '2015'), 8),\n",
       " (('2015', 'baseline'), 8),\n",
       " (('2030', 'relative'), 7),\n",
       " (('neutrality', '2050'), 7),\n",
       " (('20', '2030'), 5),\n",
       " (('by', '2023'), 4),\n",
       " (('set', '2019-20'), 3),\n",
       " (('end', '2023'), 3),\n",
       " (('10', '2022'), 3)]"
      ]
     },
     "metadata": {},
     "output_type": "display_data"
    },
    {
     "name": "stdout",
     "output_type": "stream",
     "text": [
      "\n",
      "trigrams containing year\n"
     ]
    },
    {
     "data": {
      "text/plain": [
       "[(('relative', '2015', 'baseline'), 8),\n",
       " (('2030', 'relative', '2015'), 7),\n",
       " (('climatic', 'neutrality', '2050'), 4),\n",
       " (('climate', 'neutrality', '2050'), 3),\n",
       " (('2030', \"'s\", 'horizon'), 3),\n",
       " (('corporation', 'set', '2019-2020'), 2),\n",
       " (('rural', 'households', '2024'), 2),\n",
       " (('new', 'clusters', '2019-20'), 2),\n",
       " (('incubators', 'tbis', '2019-20'), 2),\n",
       " (('tbis', '2019-20', 'develop'), 2)]"
      ]
     },
     "metadata": {},
     "output_type": "display_data"
    }
   ],
   "source": [
    "bigrams_with_year = [g for g in all_bigrams if any([re.match(r\"\\d{4}\", word) for word in g])]\n",
    "trigrams_with_year = [g for g in all_trigrams if any([re.match(r\"\\d{4}\", word) for word in g])]\n",
    "\n",
    "print(\"bigrams containing year\")\n",
    "display(Counter(bigrams_with_year).most_common(10))\n",
    "\n",
    "print(\"\\ntrigrams containing year\")\n",
    "display(Counter(trigrams_with_year).most_common(10))"
   ]
  },
  {
   "cell_type": "markdown",
   "id": "9e32dcc5-5a84-4c2b-9e1d-993efb8f353b",
   "metadata": {},
   "source": [
    "#### ngram frequency split by GHG/non-GHG\n",
    "\n",
    "> words and phrases like 'carbon neutral(ity)' seem to indicate that a phrase is a greenhouse gas target. However, this is unlikely to be a useful predictor for whether any phrase is a target."
   ]
  },
  {
   "cell_type": "code",
   "execution_count": 18,
   "id": "e4026ad9-7ba0-445c-91a0-381d041a1da7",
   "metadata": {},
   "outputs": [
    {
     "data": {
      "text/plain": [
       "GHG/NON-GHG\n",
       "GHG         37\n",
       "Non-GHG    267\n",
       "Name: Document ID, dtype: int64"
      ]
     },
     "execution_count": 18,
     "metadata": {},
     "output_type": "execute_result"
    }
   ],
   "source": [
    "df.groupby(\"GHG/NON-GHG\").count()[\"Document ID\"]"
   ]
  },
  {
   "cell_type": "code",
   "execution_count": 19,
   "id": "199363bd-7ad9-4a47-be22-21b71a964ab4",
   "metadata": {},
   "outputs": [
    {
     "name": "stdout",
     "output_type": "stream",
     "text": [
      "GHG\n"
     ]
    },
    {
     "data": {
      "text/plain": [
       "[('2050', 21),\n",
       " ('emissions', 19),\n",
       " ('carbon', 17),\n",
       " ('reduction', 13),\n",
       " ('neutrality', 13),\n",
       " ('energy', 13),\n",
       " ('compared', 12),\n",
       " ('1990', 12),\n",
       " ('2030', 10),\n",
       " ('climate', 10)]"
      ]
     },
     "metadata": {},
     "output_type": "display_data"
    },
    {
     "data": {
      "text/plain": [
       "[(('compared', '1990'), 10),\n",
       " (('greenhouse', 'gas'), 8),\n",
       " (('carbon', 'neutral'), 7),\n",
       " (('gas', 'emissions'), 7),\n",
       " (('carbon', 'neutrality'), 5),\n",
       " (('remain', 'carbon'), 5),\n",
       " (('climate', 'neutrality'), 5),\n",
       " (('neutrality', '2050'), 5),\n",
       " (('reduction', 'emissions'), 4),\n",
       " (('achieving', 'carbon'), 4)]"
      ]
     },
     "metadata": {},
     "output_type": "display_data"
    },
    {
     "name": "stdout",
     "output_type": "stream",
     "text": [
      "\n",
      "Non-GHG\n"
     ]
    },
    {
     "data": {
      "text/plain": [
       "[('energy', 89),\n",
       " ('the', 52),\n",
       " ('✓', 49),\n",
       " ('renewable', 38),\n",
       " ('2030', 37),\n",
       " ('new', 33),\n",
       " ('least', 32),\n",
       " ('electricity', 28),\n",
       " ('water', 28),\n",
       " ('consumption', 28)]"
      ]
     },
     "metadata": {},
     "output_type": "display_data"
    },
    {
     "data": {
      "text/plain": [
       "[(('energy', 'consumption'), 20),\n",
       " (('renewable', 'energy'), 16),\n",
       " (('water', 'supply'), 13),\n",
       " (('drinking', 'water'), 12),\n",
       " (('✓', 'construction'), 12),\n",
       " (('✓', 'modernization'), 12),\n",
       " (('modern', 'equipment'), 12),\n",
       " (('specific', 'energy'), 12),\n",
       " (('irrigated', 'land'), 11),\n",
       " (('thousand', 'hectares'), 10)]"
      ]
     },
     "metadata": {},
     "output_type": "display_data"
    },
    {
     "name": "stdout",
     "output_type": "stream",
     "text": [
      "\n"
     ]
    }
   ],
   "source": [
    "for ghg_val in (\"GHG\", \"Non-GHG\"):\n",
    "    print(ghg_val)\n",
    "    display(Counter(df.loc[df['GHG/NON-GHG'] == ghg_val, \"_unigrams\"].sum()).most_common(10))\n",
    "    display(Counter(df.loc[df['GHG/NON-GHG'] == ghg_val, \"_bigrams\"].sum()).most_common(10))\n",
    "    print()"
   ]
  },
  {
   "cell_type": "code",
   "execution_count": null,
   "id": "d7d412c0-0cbb-4a95-bf4b-d54ceb52f675",
   "metadata": {},
   "outputs": [],
   "source": []
  }
 ],
 "metadata": {
  "kernelspec": {
   "display_name": "Python 3 (ipykernel)",
   "language": "python",
   "name": "python3"
  },
  "language_info": {
   "codemirror_mode": {
    "name": "ipython",
    "version": 3
   },
   "file_extension": ".py",
   "mimetype": "text/x-python",
   "name": "python",
   "nbconvert_exporter": "python",
   "pygments_lexer": "ipython3",
   "version": "3.8.12"
  }
 },
 "nbformat": 4,
 "nbformat_minor": 5
}
